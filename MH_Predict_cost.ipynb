{
  "nbformat": 4,
  "nbformat_minor": 0,
  "metadata": {
    "colab": {
      "name": "MH_Predict_cost.ipynb",
      "provenance": [],
      "toc_visible": true
    },
    "kernelspec": {
      "name": "python3",
      "display_name": "Python 3"
    },
    "language_info": {
      "name": "python"
    }
  },
  "cells": [
    {
      "cell_type": "code",
      "execution_count": 1,
      "metadata": {
        "id": "YssgiCVw1oER",
        "colab": {
          "base_uri": "https://localhost:8080/"
        },
        "outputId": "540edec1-d571-4e7a-e7e1-9273b42e5dfe"
      },
      "outputs": [
        {
          "output_type": "stream",
          "name": "stdout",
          "text": [
            "Mounted at /content/drive\n"
          ]
        }
      ],
      "source": [
        "from google.colab import drive\n",
        "drive.mount('/content/drive')"
      ]
    },
    {
      "cell_type": "code",
      "source": [
        "# Change directory\n",
        "%cd /content/drive/My Drive/Colab Notebooks/healthcare analytics"
      ],
      "metadata": {
        "colab": {
          "base_uri": "https://localhost:8080/"
        },
        "id": "mon13ACt8-lr",
        "outputId": "7cf30de4-5160-4438-c8d6-d5ce7bf45400"
      },
      "execution_count": 2,
      "outputs": [
        {
          "output_type": "stream",
          "name": "stdout",
          "text": [
            "/content/drive/My Drive/Colab Notebooks/healthcare analytics\n"
          ]
        }
      ]
    },
    {
      "cell_type": "code",
      "source": [
        "!ls"
      ],
      "metadata": {
        "colab": {
          "base_uri": "https://localhost:8080/"
        },
        "id": "NVvZ-kb6-QFN",
        "outputId": "bb652671-a271-4d6d-f452-6bb315754db5"
      },
      "execution_count": 3,
      "outputs": [
        {
          "output_type": "stream",
          "name": "stdout",
          "text": [
            " Anisha_score.csv\t    MH_Predict_cost.ipynb\n",
            " CKD.ipynb\t\t    PatientPortalAnalysis.pptx\n",
            " Data_MH.csv\t\t    PatientPortalUsage.ipynb\n",
            " Dataset.csv\t\t    ProstrateCancer.ipynb\n",
            " Final_file.csv\t\t    purchase_fre_job.png\n",
            " FinalRaw.csv\t\t   'Survival Analysis ProstrateCancer.ipynb'\n",
            " final_score.csv\t    sympotms.csv\n",
            " Final_Tenure1.csv\t    sympotms.gsheet\n",
            " Final_Tenure1.gsheet\t    sympotms.xlsx\n",
            " Final_Tenure.csv\t    tenure.csv\n",
            " hints5_cycle2_public.csv   TimeSeries.ipynb\n",
            " inbetween.csv\t\t    training_data.csv\n",
            " inbetween.gsheet\t    Webscrapper_zocdoc.ipynb\n"
          ]
        }
      ]
    },
    {
      "cell_type": "code",
      "source": [
        "import numpy as np\n",
        "import matplotlib.pyplot as plt\n",
        "import pandas as pd\n",
        "import seaborn as sns\n"
      ],
      "metadata": {
        "id": "dWZCuXI5fp-n"
      },
      "execution_count": 4,
      "outputs": []
    },
    {
      "cell_type": "markdown",
      "source": [
        "# Read File"
      ],
      "metadata": {
        "id": "rypWExgSFk0e"
      }
    },
    {
      "cell_type": "code",
      "source": [
        "df = pd.read_csv('Data_MH.csv')\n",
        "df"
      ],
      "metadata": {
        "colab": {
          "base_uri": "https://localhost:8080/",
          "height": 484
        },
        "id": "Ai-f06uidrm0",
        "outputId": "e1bbdd3e-3bde-4785-aa44-3a2ac0fb8c88"
      },
      "execution_count": 66,
      "outputs": [
        {
          "output_type": "execute_result",
          "data": {
            "text/plain": [
              "     SL.   AGE  FEMALE  UNMARRIED  ACHD  CAD-DVD  CAD-SVD  CAD-TVD  CAD-VSD  \\\n",
              "0      1  58.0       0          0     0        0        0        0        0   \n",
              "1      2  59.0       0          0     0        1        0        0        0   \n",
              "2      3  82.0       0          0     0        0        0        1        0   \n",
              "3      4  46.0       0          0     0        1        0        0        0   \n",
              "4      5  60.0       0          0     0        1        0        0        0   \n",
              "..   ...   ...     ...        ...   ...      ...      ...      ...      ...   \n",
              "243  244  51.0       0          0     0        0        0        0        0   \n",
              "244  245  58.0       0          0     0        0        0        1        0   \n",
              "245  246  44.0       0          0     0        0        0        1        0   \n",
              "246  247  60.0       0          0     0        0        0        0        0   \n",
              "247  248  30.0       0          0     0        0        0        0        0   \n",
              "\n",
              "     OS-ASD  ...  TRANSFERRED  ALERT  ELECTIVE  TOTAL COST TO HOSPITAL   \\\n",
              "0         0  ...            0      1         0                 660293.0   \n",
              "1         0  ...            0      1         0                 809130.0   \n",
              "2         0  ...            0      1         1                 362231.0   \n",
              "3         0  ...            0      1         0                 629990.0   \n",
              "4         0  ...            0      1         0                 444876.0   \n",
              "..      ...  ...          ...    ...       ...                      ...   \n",
              "243       0  ...            0      1         1                 295155.0   \n",
              "244       0  ...            0      1         1                 200321.0   \n",
              "245       0  ...            0      1         1                 191188.0   \n",
              "246       0  ...            0      1         0                 202807.0   \n",
              "247       0  ...            0      1         1                 248112.0   \n",
              "\n",
              "     Ln_Total Cost  TOTAL LENGTH OF STAY  LENGTH OF STAY - ICU  \\\n",
              "0        13.400439                    25                    12   \n",
              "1        13.603715                    41                    20   \n",
              "2        12.800037                    18                     9   \n",
              "3        13.353459                    14                    13   \n",
              "4        13.005551                    24                    12   \n",
              "..             ...                   ...                   ...   \n",
              "243      12.595256                    10                     3   \n",
              "244      12.207676                    11                     2   \n",
              "245      12.161013                    13                     5   \n",
              "246      12.220010                     9                     6   \n",
              "247      12.421636                    10                     4   \n",
              "\n",
              "     LENGTH OF STAY- WARD  IMPLANT   COST OF IMPLANT  \n",
              "0                      13         1            38000  \n",
              "1                      21         1            39690  \n",
              "2                       9         0                0  \n",
              "3                       1         1            89450  \n",
              "4                      12         0                0  \n",
              "..                    ...       ...              ...  \n",
              "243                     7         1            35000  \n",
              "244                     9         1            26000  \n",
              "245                     8         0                0  \n",
              "246                     3         0                0  \n",
              "247                     6         1            41800  \n",
              "\n",
              "[248 rows x 43 columns]"
            ],
            "text/html": [
              "\n",
              "  <div id=\"df-57298b83-0365-4bb0-91f7-c69a9b4ea0ff\">\n",
              "    <div class=\"colab-df-container\">\n",
              "      <div>\n",
              "<style scoped>\n",
              "    .dataframe tbody tr th:only-of-type {\n",
              "        vertical-align: middle;\n",
              "    }\n",
              "\n",
              "    .dataframe tbody tr th {\n",
              "        vertical-align: top;\n",
              "    }\n",
              "\n",
              "    .dataframe thead th {\n",
              "        text-align: right;\n",
              "    }\n",
              "</style>\n",
              "<table border=\"1\" class=\"dataframe\">\n",
              "  <thead>\n",
              "    <tr style=\"text-align: right;\">\n",
              "      <th></th>\n",
              "      <th>SL.</th>\n",
              "      <th>AGE</th>\n",
              "      <th>FEMALE</th>\n",
              "      <th>UNMARRIED</th>\n",
              "      <th>ACHD</th>\n",
              "      <th>CAD-DVD</th>\n",
              "      <th>CAD-SVD</th>\n",
              "      <th>CAD-TVD</th>\n",
              "      <th>CAD-VSD</th>\n",
              "      <th>OS-ASD</th>\n",
              "      <th>...</th>\n",
              "      <th>TRANSFERRED</th>\n",
              "      <th>ALERT</th>\n",
              "      <th>ELECTIVE</th>\n",
              "      <th>TOTAL COST TO HOSPITAL</th>\n",
              "      <th>Ln_Total Cost</th>\n",
              "      <th>TOTAL LENGTH OF STAY</th>\n",
              "      <th>LENGTH OF STAY - ICU</th>\n",
              "      <th>LENGTH OF STAY- WARD</th>\n",
              "      <th>IMPLANT</th>\n",
              "      <th>COST OF IMPLANT</th>\n",
              "    </tr>\n",
              "  </thead>\n",
              "  <tbody>\n",
              "    <tr>\n",
              "      <th>0</th>\n",
              "      <td>1</td>\n",
              "      <td>58.0</td>\n",
              "      <td>0</td>\n",
              "      <td>0</td>\n",
              "      <td>0</td>\n",
              "      <td>0</td>\n",
              "      <td>0</td>\n",
              "      <td>0</td>\n",
              "      <td>0</td>\n",
              "      <td>0</td>\n",
              "      <td>...</td>\n",
              "      <td>0</td>\n",
              "      <td>1</td>\n",
              "      <td>0</td>\n",
              "      <td>660293.0</td>\n",
              "      <td>13.400439</td>\n",
              "      <td>25</td>\n",
              "      <td>12</td>\n",
              "      <td>13</td>\n",
              "      <td>1</td>\n",
              "      <td>38000</td>\n",
              "    </tr>\n",
              "    <tr>\n",
              "      <th>1</th>\n",
              "      <td>2</td>\n",
              "      <td>59.0</td>\n",
              "      <td>0</td>\n",
              "      <td>0</td>\n",
              "      <td>0</td>\n",
              "      <td>1</td>\n",
              "      <td>0</td>\n",
              "      <td>0</td>\n",
              "      <td>0</td>\n",
              "      <td>0</td>\n",
              "      <td>...</td>\n",
              "      <td>0</td>\n",
              "      <td>1</td>\n",
              "      <td>0</td>\n",
              "      <td>809130.0</td>\n",
              "      <td>13.603715</td>\n",
              "      <td>41</td>\n",
              "      <td>20</td>\n",
              "      <td>21</td>\n",
              "      <td>1</td>\n",
              "      <td>39690</td>\n",
              "    </tr>\n",
              "    <tr>\n",
              "      <th>2</th>\n",
              "      <td>3</td>\n",
              "      <td>82.0</td>\n",
              "      <td>0</td>\n",
              "      <td>0</td>\n",
              "      <td>0</td>\n",
              "      <td>0</td>\n",
              "      <td>0</td>\n",
              "      <td>1</td>\n",
              "      <td>0</td>\n",
              "      <td>0</td>\n",
              "      <td>...</td>\n",
              "      <td>0</td>\n",
              "      <td>1</td>\n",
              "      <td>1</td>\n",
              "      <td>362231.0</td>\n",
              "      <td>12.800037</td>\n",
              "      <td>18</td>\n",
              "      <td>9</td>\n",
              "      <td>9</td>\n",
              "      <td>0</td>\n",
              "      <td>0</td>\n",
              "    </tr>\n",
              "    <tr>\n",
              "      <th>3</th>\n",
              "      <td>4</td>\n",
              "      <td>46.0</td>\n",
              "      <td>0</td>\n",
              "      <td>0</td>\n",
              "      <td>0</td>\n",
              "      <td>1</td>\n",
              "      <td>0</td>\n",
              "      <td>0</td>\n",
              "      <td>0</td>\n",
              "      <td>0</td>\n",
              "      <td>...</td>\n",
              "      <td>0</td>\n",
              "      <td>1</td>\n",
              "      <td>0</td>\n",
              "      <td>629990.0</td>\n",
              "      <td>13.353459</td>\n",
              "      <td>14</td>\n",
              "      <td>13</td>\n",
              "      <td>1</td>\n",
              "      <td>1</td>\n",
              "      <td>89450</td>\n",
              "    </tr>\n",
              "    <tr>\n",
              "      <th>4</th>\n",
              "      <td>5</td>\n",
              "      <td>60.0</td>\n",
              "      <td>0</td>\n",
              "      <td>0</td>\n",
              "      <td>0</td>\n",
              "      <td>1</td>\n",
              "      <td>0</td>\n",
              "      <td>0</td>\n",
              "      <td>0</td>\n",
              "      <td>0</td>\n",
              "      <td>...</td>\n",
              "      <td>0</td>\n",
              "      <td>1</td>\n",
              "      <td>0</td>\n",
              "      <td>444876.0</td>\n",
              "      <td>13.005551</td>\n",
              "      <td>24</td>\n",
              "      <td>12</td>\n",
              "      <td>12</td>\n",
              "      <td>0</td>\n",
              "      <td>0</td>\n",
              "    </tr>\n",
              "    <tr>\n",
              "      <th>...</th>\n",
              "      <td>...</td>\n",
              "      <td>...</td>\n",
              "      <td>...</td>\n",
              "      <td>...</td>\n",
              "      <td>...</td>\n",
              "      <td>...</td>\n",
              "      <td>...</td>\n",
              "      <td>...</td>\n",
              "      <td>...</td>\n",
              "      <td>...</td>\n",
              "      <td>...</td>\n",
              "      <td>...</td>\n",
              "      <td>...</td>\n",
              "      <td>...</td>\n",
              "      <td>...</td>\n",
              "      <td>...</td>\n",
              "      <td>...</td>\n",
              "      <td>...</td>\n",
              "      <td>...</td>\n",
              "      <td>...</td>\n",
              "      <td>...</td>\n",
              "    </tr>\n",
              "    <tr>\n",
              "      <th>243</th>\n",
              "      <td>244</td>\n",
              "      <td>51.0</td>\n",
              "      <td>0</td>\n",
              "      <td>0</td>\n",
              "      <td>0</td>\n",
              "      <td>0</td>\n",
              "      <td>0</td>\n",
              "      <td>0</td>\n",
              "      <td>0</td>\n",
              "      <td>0</td>\n",
              "      <td>...</td>\n",
              "      <td>0</td>\n",
              "      <td>1</td>\n",
              "      <td>1</td>\n",
              "      <td>295155.0</td>\n",
              "      <td>12.595256</td>\n",
              "      <td>10</td>\n",
              "      <td>3</td>\n",
              "      <td>7</td>\n",
              "      <td>1</td>\n",
              "      <td>35000</td>\n",
              "    </tr>\n",
              "    <tr>\n",
              "      <th>244</th>\n",
              "      <td>245</td>\n",
              "      <td>58.0</td>\n",
              "      <td>0</td>\n",
              "      <td>0</td>\n",
              "      <td>0</td>\n",
              "      <td>0</td>\n",
              "      <td>0</td>\n",
              "      <td>1</td>\n",
              "      <td>0</td>\n",
              "      <td>0</td>\n",
              "      <td>...</td>\n",
              "      <td>0</td>\n",
              "      <td>1</td>\n",
              "      <td>1</td>\n",
              "      <td>200321.0</td>\n",
              "      <td>12.207676</td>\n",
              "      <td>11</td>\n",
              "      <td>2</td>\n",
              "      <td>9</td>\n",
              "      <td>1</td>\n",
              "      <td>26000</td>\n",
              "    </tr>\n",
              "    <tr>\n",
              "      <th>245</th>\n",
              "      <td>246</td>\n",
              "      <td>44.0</td>\n",
              "      <td>0</td>\n",
              "      <td>0</td>\n",
              "      <td>0</td>\n",
              "      <td>0</td>\n",
              "      <td>0</td>\n",
              "      <td>1</td>\n",
              "      <td>0</td>\n",
              "      <td>0</td>\n",
              "      <td>...</td>\n",
              "      <td>0</td>\n",
              "      <td>1</td>\n",
              "      <td>1</td>\n",
              "      <td>191188.0</td>\n",
              "      <td>12.161013</td>\n",
              "      <td>13</td>\n",
              "      <td>5</td>\n",
              "      <td>8</td>\n",
              "      <td>0</td>\n",
              "      <td>0</td>\n",
              "    </tr>\n",
              "    <tr>\n",
              "      <th>246</th>\n",
              "      <td>247</td>\n",
              "      <td>60.0</td>\n",
              "      <td>0</td>\n",
              "      <td>0</td>\n",
              "      <td>0</td>\n",
              "      <td>0</td>\n",
              "      <td>0</td>\n",
              "      <td>0</td>\n",
              "      <td>0</td>\n",
              "      <td>0</td>\n",
              "      <td>...</td>\n",
              "      <td>0</td>\n",
              "      <td>1</td>\n",
              "      <td>0</td>\n",
              "      <td>202807.0</td>\n",
              "      <td>12.220010</td>\n",
              "      <td>9</td>\n",
              "      <td>6</td>\n",
              "      <td>3</td>\n",
              "      <td>0</td>\n",
              "      <td>0</td>\n",
              "    </tr>\n",
              "    <tr>\n",
              "      <th>247</th>\n",
              "      <td>248</td>\n",
              "      <td>30.0</td>\n",
              "      <td>0</td>\n",
              "      <td>0</td>\n",
              "      <td>0</td>\n",
              "      <td>0</td>\n",
              "      <td>0</td>\n",
              "      <td>0</td>\n",
              "      <td>0</td>\n",
              "      <td>0</td>\n",
              "      <td>...</td>\n",
              "      <td>0</td>\n",
              "      <td>1</td>\n",
              "      <td>1</td>\n",
              "      <td>248112.0</td>\n",
              "      <td>12.421636</td>\n",
              "      <td>10</td>\n",
              "      <td>4</td>\n",
              "      <td>6</td>\n",
              "      <td>1</td>\n",
              "      <td>41800</td>\n",
              "    </tr>\n",
              "  </tbody>\n",
              "</table>\n",
              "<p>248 rows × 43 columns</p>\n",
              "</div>\n",
              "      <button class=\"colab-df-convert\" onclick=\"convertToInteractive('df-57298b83-0365-4bb0-91f7-c69a9b4ea0ff')\"\n",
              "              title=\"Convert this dataframe to an interactive table.\"\n",
              "              style=\"display:none;\">\n",
              "        \n",
              "  <svg xmlns=\"http://www.w3.org/2000/svg\" height=\"24px\"viewBox=\"0 0 24 24\"\n",
              "       width=\"24px\">\n",
              "    <path d=\"M0 0h24v24H0V0z\" fill=\"none\"/>\n",
              "    <path d=\"M18.56 5.44l.94 2.06.94-2.06 2.06-.94-2.06-.94-.94-2.06-.94 2.06-2.06.94zm-11 1L8.5 8.5l.94-2.06 2.06-.94-2.06-.94L8.5 2.5l-.94 2.06-2.06.94zm10 10l.94 2.06.94-2.06 2.06-.94-2.06-.94-.94-2.06-.94 2.06-2.06.94z\"/><path d=\"M17.41 7.96l-1.37-1.37c-.4-.4-.92-.59-1.43-.59-.52 0-1.04.2-1.43.59L10.3 9.45l-7.72 7.72c-.78.78-.78 2.05 0 2.83L4 21.41c.39.39.9.59 1.41.59.51 0 1.02-.2 1.41-.59l7.78-7.78 2.81-2.81c.8-.78.8-2.07 0-2.86zM5.41 20L4 18.59l7.72-7.72 1.47 1.35L5.41 20z\"/>\n",
              "  </svg>\n",
              "      </button>\n",
              "      \n",
              "  <style>\n",
              "    .colab-df-container {\n",
              "      display:flex;\n",
              "      flex-wrap:wrap;\n",
              "      gap: 12px;\n",
              "    }\n",
              "\n",
              "    .colab-df-convert {\n",
              "      background-color: #E8F0FE;\n",
              "      border: none;\n",
              "      border-radius: 50%;\n",
              "      cursor: pointer;\n",
              "      display: none;\n",
              "      fill: #1967D2;\n",
              "      height: 32px;\n",
              "      padding: 0 0 0 0;\n",
              "      width: 32px;\n",
              "    }\n",
              "\n",
              "    .colab-df-convert:hover {\n",
              "      background-color: #E2EBFA;\n",
              "      box-shadow: 0px 1px 2px rgba(60, 64, 67, 0.3), 0px 1px 3px 1px rgba(60, 64, 67, 0.15);\n",
              "      fill: #174EA6;\n",
              "    }\n",
              "\n",
              "    [theme=dark] .colab-df-convert {\n",
              "      background-color: #3B4455;\n",
              "      fill: #D2E3FC;\n",
              "    }\n",
              "\n",
              "    [theme=dark] .colab-df-convert:hover {\n",
              "      background-color: #434B5C;\n",
              "      box-shadow: 0px 1px 3px 1px rgba(0, 0, 0, 0.15);\n",
              "      filter: drop-shadow(0px 1px 2px rgba(0, 0, 0, 0.3));\n",
              "      fill: #FFFFFF;\n",
              "    }\n",
              "  </style>\n",
              "\n",
              "      <script>\n",
              "        const buttonEl =\n",
              "          document.querySelector('#df-57298b83-0365-4bb0-91f7-c69a9b4ea0ff button.colab-df-convert');\n",
              "        buttonEl.style.display =\n",
              "          google.colab.kernel.accessAllowed ? 'block' : 'none';\n",
              "\n",
              "        async function convertToInteractive(key) {\n",
              "          const element = document.querySelector('#df-57298b83-0365-4bb0-91f7-c69a9b4ea0ff');\n",
              "          const dataTable =\n",
              "            await google.colab.kernel.invokeFunction('convertToInteractive',\n",
              "                                                     [key], {});\n",
              "          if (!dataTable) return;\n",
              "\n",
              "          const docLinkHtml = 'Like what you see? Visit the ' +\n",
              "            '<a target=\"_blank\" href=https://colab.research.google.com/notebooks/data_table.ipynb>data table notebook</a>'\n",
              "            + ' to learn more about interactive tables.';\n",
              "          element.innerHTML = '';\n",
              "          dataTable['output_type'] = 'display_data';\n",
              "          await google.colab.output.renderOutput(dataTable, element);\n",
              "          const docLink = document.createElement('div');\n",
              "          docLink.innerHTML = docLinkHtml;\n",
              "          element.appendChild(docLink);\n",
              "        }\n",
              "      </script>\n",
              "    </div>\n",
              "  </div>\n",
              "  "
            ]
          },
          "metadata": {},
          "execution_count": 66
        }
      ]
    },
    {
      "cell_type": "code",
      "source": [
        "df.drop(['SL.','TOTAL COST TO HOSPITAL '], axis = 1, inplace = True)"
      ],
      "metadata": {
        "id": "kZyfXIITFiXt"
      },
      "execution_count": 67,
      "outputs": []
    },
    {
      "cell_type": "code",
      "source": [
        "df.dtypes\n",
        "df.columns"
      ],
      "metadata": {
        "colab": {
          "base_uri": "https://localhost:8080/"
        },
        "id": "WFPnfXdP_deR",
        "outputId": "d8346d49-c8c6-4247-d9ee-528252d81cd0"
      },
      "execution_count": 30,
      "outputs": [
        {
          "output_type": "execute_result",
          "data": {
            "text/plain": [
              "Index(['AGE', 'FEMALE', 'UNMARRIED', 'ACHD', 'CAD-DVD', 'CAD-SVD', 'CAD-TVD',\n",
              "       'CAD-VSD', 'OS-ASD', 'other- heart', 'other- respiratory',\n",
              "       'other-general', 'other-nervous', 'other-tertalogy', 'PM-VSD', 'RHD',\n",
              "       'BMI = KG/(height/100)', 'HR PULSE', 'BP -HIGH', 'BP-LOW', 'RR',\n",
              "       'Diabetes1', 'Diabetes2', 'hypertension1', 'hypertension2',\n",
              "       'hypertension3', 'other', 'HB', 'UREA', 'CREATININE', 'AMBULANCE',\n",
              "       'WALKED IN', 'TRANSFERRED', 'ALERT', 'ELECTIVE', 'Ln_Total Cost',\n",
              "       'TOTAL LENGTH OF STAY', 'LENGTH OF STAY - ICU', 'LENGTH OF STAY- WARD',\n",
              "       'IMPLANT ', 'COST OF IMPLANT'],\n",
              "      dtype='object')"
            ]
          },
          "metadata": {},
          "execution_count": 30
        }
      ]
    },
    {
      "cell_type": "code",
      "source": [
        "#Check for normal distribution\n",
        "df.hist(bins = 30, figsize= (25,20))"
      ],
      "metadata": {
        "colab": {
          "base_uri": "https://localhost:8080/",
          "height": 1000
        },
        "id": "mnDTveEUF4K2",
        "outputId": "7603b52e-d0f5-4bc8-9794-b08783b958bc"
      },
      "execution_count": 31,
      "outputs": [
        {
          "output_type": "execute_result",
          "data": {
            "text/plain": [
              "array([[<matplotlib.axes._subplots.AxesSubplot object at 0x7f70f4171890>,\n",
              "        <matplotlib.axes._subplots.AxesSubplot object at 0x7f70f4154210>,\n",
              "        <matplotlib.axes._subplots.AxesSubplot object at 0x7f70f40c20d0>,\n",
              "        <matplotlib.axes._subplots.AxesSubplot object at 0x7f70f40f46d0>,\n",
              "        <matplotlib.axes._subplots.AxesSubplot object at 0x7f70f40aacd0>,\n",
              "        <matplotlib.axes._subplots.AxesSubplot object at 0x7f70f406c310>],\n",
              "       [<matplotlib.axes._subplots.AxesSubplot object at 0x7f70f402b950>,\n",
              "        <matplotlib.axes._subplots.AxesSubplot object at 0x7f70f3fe2e90>,\n",
              "        <matplotlib.axes._subplots.AxesSubplot object at 0x7f70f3fe2ed0>,\n",
              "        <matplotlib.axes._subplots.AxesSubplot object at 0x7f70f3fa4610>,\n",
              "        <matplotlib.axes._subplots.AxesSubplot object at 0x7f70f3f20150>,\n",
              "        <matplotlib.axes._subplots.AxesSubplot object at 0x7f70f3ed6750>],\n",
              "       [<matplotlib.axes._subplots.AxesSubplot object at 0x7f70f3e8cd50>,\n",
              "        <matplotlib.axes._subplots.AxesSubplot object at 0x7f70f3e50390>,\n",
              "        <matplotlib.axes._subplots.AxesSubplot object at 0x7f70f4040d90>,\n",
              "        <matplotlib.axes._subplots.AxesSubplot object at 0x7f70f3e84a50>,\n",
              "        <matplotlib.axes._subplots.AxesSubplot object at 0x7f70f3e27e10>,\n",
              "        <matplotlib.axes._subplots.AxesSubplot object at 0x7f70f3de1450>],\n",
              "       [<matplotlib.axes._subplots.AxesSubplot object at 0x7f70f3d90a50>,\n",
              "        <matplotlib.axes._subplots.AxesSubplot object at 0x7f70f3d51110>,\n",
              "        <matplotlib.axes._subplots.AxesSubplot object at 0x7f70f3d08710>,\n",
              "        <matplotlib.axes._subplots.AxesSubplot object at 0x7f70f3cbcd10>,\n",
              "        <matplotlib.axes._subplots.AxesSubplot object at 0x7f70f3c81350>,\n",
              "        <matplotlib.axes._subplots.AxesSubplot object at 0x7f70f3cb7950>],\n",
              "       [<matplotlib.axes._subplots.AxesSubplot object at 0x7f70f3c6df50>,\n",
              "        <matplotlib.axes._subplots.AxesSubplot object at 0x7f70f3c30590>,\n",
              "        <matplotlib.axes._subplots.AxesSubplot object at 0x7f70f3be7b90>,\n",
              "        <matplotlib.axes._subplots.AxesSubplot object at 0x7f70f3bac1d0>,\n",
              "        <matplotlib.axes._subplots.AxesSubplot object at 0x7f70f3b627d0>,\n",
              "        <matplotlib.axes._subplots.AxesSubplot object at 0x7f70f3b19dd0>],\n",
              "       [<matplotlib.axes._subplots.AxesSubplot object at 0x7f70f3add410>,\n",
              "        <matplotlib.axes._subplots.AxesSubplot object at 0x7f70f3a92a10>,\n",
              "        <matplotlib.axes._subplots.AxesSubplot object at 0x7f70f3a4bfd0>,\n",
              "        <matplotlib.axes._subplots.AxesSubplot object at 0x7f70f3a0e650>,\n",
              "        <matplotlib.axes._subplots.AxesSubplot object at 0x7f70f39c4c50>,\n",
              "        <matplotlib.axes._subplots.AxesSubplot object at 0x7f70f3988290>],\n",
              "       [<matplotlib.axes._subplots.AxesSubplot object at 0x7f70f393f890>,\n",
              "        <matplotlib.axes._subplots.AxesSubplot object at 0x7f70f3976e90>,\n",
              "        <matplotlib.axes._subplots.AxesSubplot object at 0x7f70f39384d0>,\n",
              "        <matplotlib.axes._subplots.AxesSubplot object at 0x7f70f38efad0>,\n",
              "        <matplotlib.axes._subplots.AxesSubplot object at 0x7f70f38b2110>,\n",
              "        <matplotlib.axes._subplots.AxesSubplot object at 0x7f70f386a710>]],\n",
              "      dtype=object)"
            ]
          },
          "metadata": {},
          "execution_count": 31
        },
        {
          "output_type": "display_data",
          "data": {
            "text/plain": [
              "<Figure size 1800x1440 with 42 Axes>"
            ],
            "image/png": "[encoded data removed]"
          },
          "metadata": {}
        }
      ]
    },
    {
      "cell_type": "markdown",
      "source": [
        "**Linear regression analysis has four key assumptions. These are:**\n",
        "\n",
        "\n",
        "We are investigating a linear relationship\n",
        "\n",
        "All variables follow a normal distribution\n",
        "\n",
        "There is very little or no multicollinearity\n"
      ],
      "metadata": {
        "id": "Eff92nIxQ4Bl"
      }
    },
    {
      "cell_type": "markdown",
      "source": [
        "# Assumption 1: Investigate a Linear Relation between varaibles"
      ],
      "metadata": {
        "id": "tUnKNiiqQ9Rs"
      }
    },
    {
      "cell_type": "code",
      "source": [
        "df.columns"
      ],
      "metadata": {
        "colab": {
          "base_uri": "https://localhost:8080/"
        },
        "id": "faAOdTt6UX71",
        "outputId": "e59c2413-d9f1-4d96-b4f0-b1f058228f28"
      },
      "execution_count": 32,
      "outputs": [
        {
          "output_type": "execute_result",
          "data": {
            "text/plain": [
              "Index(['AGE', 'FEMALE', 'UNMARRIED', 'ACHD', 'CAD-DVD', 'CAD-SVD', 'CAD-TVD',\n",
              "       'CAD-VSD', 'OS-ASD', 'other- heart', 'other- respiratory',\n",
              "       'other-general', 'other-nervous', 'other-tertalogy', 'PM-VSD', 'RHD',\n",
              "       'BMI = KG/(height/100)', 'HR PULSE', 'BP -HIGH', 'BP-LOW', 'RR',\n",
              "       'Diabetes1', 'Diabetes2', 'hypertension1', 'hypertension2',\n",
              "       'hypertension3', 'other', 'HB', 'UREA', 'CREATININE', 'AMBULANCE',\n",
              "       'WALKED IN', 'TRANSFERRED', 'ALERT', 'ELECTIVE', 'Ln_Total Cost',\n",
              "       'TOTAL LENGTH OF STAY', 'LENGTH OF STAY - ICU', 'LENGTH OF STAY- WARD',\n",
              "       'IMPLANT ', 'COST OF IMPLANT'],\n",
              "      dtype='object')"
            ]
          },
          "metadata": {},
          "execution_count": 32
        }
      ]
    },
    {
      "cell_type": "code",
      "source": [
        "%matplotlib inline\n",
        "import matplotlib.pyplot as plt\n",
        "plt.style.use('seaborn-whitegrid')\n",
        "from sklearn.datasets import make_regression"
      ],
      "metadata": {
        "id": "fyXkMp2ZRDC5"
      },
      "execution_count": 20,
      "outputs": []
    },
    {
      "cell_type": "code",
      "source": [
        "df.rename(columns={'Ln_Total Cost': 'Tot_Cost'}, inplace=True)"
      ],
      "metadata": {
        "colab": {
          "base_uri": "https://localhost:8080/"
        },
        "id": "qkq5vUQQTaUo",
        "outputId": "217945bd-ba93-4c8b-9620-4608b148db25"
      },
      "execution_count": 74,
      "outputs": [
        {
          "output_type": "stream",
          "name": "stderr",
          "text": [
            "/usr/local/lib/python3.7/dist-packages/pandas/core/frame.py:5047: SettingWithCopyWarning: \n",
            "A value is trying to be set on a copy of a slice from a DataFrame\n",
            "\n",
            "See the caveats in the documentation: https://pandas.pydata.org/pandas-docs/stable/user_guide/indexing.html#returning-a-view-versus-a-copy\n",
            "  errors=errors,\n"
          ]
        }
      ]
    },
    {
      "cell_type": "code",
      "source": [
        "df.columns"
      ],
      "metadata": {
        "colab": {
          "base_uri": "https://localhost:8080/"
        },
        "id": "s5939pZ1T7Zl",
        "outputId": "f5d27267-f4d4-493c-fb73-a532e8b4fe33"
      },
      "execution_count": 75,
      "outputs": [
        {
          "output_type": "execute_result",
          "data": {
            "text/plain": [
              "Index(['AGE', 'FEMALE', 'UNMARRIED', 'ACHD', 'CAD-DVD', 'CAD-SVD', 'CAD-TVD',\n",
              "       'CAD-VSD', 'OS-ASD', 'other- heart', 'other- respiratory',\n",
              "       'other-general', 'other-nervous', 'other-tertalogy', 'PM-VSD', 'RHD',\n",
              "       'BMI = KG/(height/100)', 'HR PULSE', 'BP -HIGH', 'BP-LOW', 'RR',\n",
              "       'Diabetes1', 'Diabetes2', 'hypertension1', 'hypertension2',\n",
              "       'hypertension3', 'other', 'HB', 'UREA', 'CREATININE', 'AMBULANCE',\n",
              "       'WALKED IN', 'TRANSFERRED', 'ALERT', 'ELECTIVE', 'Tot_Cost',\n",
              "       'TOTAL LENGTH OF STAY', 'LENGTH OF STAY - ICU', 'LENGTH OF STAY- WARD',\n",
              "       'IMPLANT ', 'COST OF IMPLANT'],\n",
              "      dtype='object')"
            ]
          },
          "metadata": {},
          "execution_count": 75
        }
      ]
    },
    {
      "cell_type": "code",
      "source": [
        "y1=df['Tot_Cost']\n",
        "# for i in df.columns:\n",
        "#   if i != 'Tot_Cost':\n",
        "#     i, y1 = make_regression(n_samples=248, n_features=1, noise=10)\n",
        "#     plt.plot(i, y1, 'o', color='black');"
      ],
      "metadata": {
        "colab": {
          "base_uri": "https://localhost:8080/",
          "height": 262
        },
        "id": "d0ld7TkxSsHz",
        "outputId": "4c62dd5d-f0a9-4c8b-91df-4c86897691e0"
      },
      "execution_count": 36,
      "outputs": [
        {
          "output_type": "display_data",
          "data": {
            "text/plain": [
              "<Figure size 432x288 with 1 Axes>"
            ],
            "image/png": "[encoded data removed]"
          },
          "metadata": {}
        }
      ]
    },
    {
      "cell_type": "code",
      "source": [
        "\n",
        "df['AGE'], y1 = make_regression(n_samples=248, n_features=1, noise=10)\n",
        "plt.plot(df['AGE'], y1, 'o', color='black');"
      ],
      "metadata": {
        "colab": {
          "base_uri": "https://localhost:8080/",
          "height": 262
        },
        "id": "xwX_8jwYUwGs",
        "outputId": "b34be470-4739-417c-ff5c-e7a5ae3de1b9"
      },
      "execution_count": 39,
      "outputs": [
        {
          "output_type": "display_data",
          "data": {
            "text/plain": [
              "<Figure size 432x288 with 1 Axes>"
            ],
            "image/png": "[encoded data removed]"
          },
          "metadata": {}
        }
      ]
    },
    {
      "cell_type": "code",
      "source": [
        "df['FEMALE'], y1 = make_regression(n_samples=248, n_features=1, noise=10)\n",
        "plt.plot(df['FEMALE'], y1, 'o', color='black');"
      ],
      "metadata": {
        "colab": {
          "base_uri": "https://localhost:8080/",
          "height": 262
        },
        "id": "Vk8v82mlVAKJ",
        "outputId": "0848ad39-253f-4836-e44f-54ffed83e22d"
      },
      "execution_count": 40,
      "outputs": [
        {
          "output_type": "display_data",
          "data": {
            "text/plain": [
              "<Figure size 432x288 with 1 Axes>"
            ],
            "image/png": "[encoded data removed]"
          },
          "metadata": {}
        }
      ]
    },
    {
      "cell_type": "code",
      "source": [
        "df['Diabetes 1'], y1 = make_regression(n_samples=248, n_features=1, noise=10)\n",
        "plt.plot(df['Diabetes 1'], y1, 'o', color='black');"
      ],
      "metadata": {
        "colab": {
          "base_uri": "https://localhost:8080/",
          "height": 262
        },
        "id": "0iinNxdvSgC0",
        "outputId": "29d9f42e-5e5c-4c55-e065-90f1a12861d8"
      },
      "execution_count": 41,
      "outputs": [
        {
          "output_type": "display_data",
          "data": {
            "text/plain": [
              "<Figure size 432x288 with 1 Axes>"
            ],
            "image/png": "[encoded data removed]"
          },
          "metadata": {}
        }
      ]
    },
    {
      "cell_type": "markdown",
      "source": [
        "# Assumption 2 for Linear Model : Normal Distribution"
      ],
      "metadata": {
        "id": "Ywy29sTfQFva"
      }
    },
    {
      "cell_type": "markdown",
      "source": [
        "The next assumption is that the variables follow a normal distribution. In order words, we want to make sure that for each x value, y is a random variable following a normal distribution and its mean lies on the regression line. To take a deeper dive into probability distributions with python you can read this article: Fitting Probability Distributions with Python \n",
        "\n",
        "One of the ways to visually test for this assumption is through the use of the Q-Q-Plot. Q-Q stands for Quantile-Quantile plot and is a technique to compare two probability distributions in a visual manner."
      ],
      "metadata": {
        "id": "fxSM2xNDQDEc"
      }
    },
    {
      "cell_type": "code",
      "source": [
        "import statsmodels.api as sm\n",
        "import pylab as py\n",
        "\n",
        "sm.qqplot(df['AGE'], line ='45')\n",
        "py.show()"
      ],
      "metadata": {
        "colab": {
          "base_uri": "https://localhost:8080/",
          "height": 312
        },
        "id": "kCcRwYpGQXt8",
        "outputId": "db9c4109-d49b-4392-913d-859781ddbe4d"
      },
      "execution_count": 42,
      "outputs": [
        {
          "output_type": "stream",
          "name": "stderr",
          "text": [
            "/usr/local/lib/python3.7/dist-packages/statsmodels/tools/_testing.py:19: FutureWarning: pandas.util.testing is deprecated. Use the functions in the public API at pandas.testing instead.\n",
            "  import pandas.util.testing as tm\n"
          ]
        },
        {
          "output_type": "display_data",
          "data": {
            "text/plain": [
              "<Figure size 432x288 with 1 Axes>"
            ],
            "image/png": "[encoded data removed]"
          },
          "metadata": {}
        }
      ]
    },
    {
      "cell_type": "markdown",
      "source": [
        "# Assumption 3 : No/little multicollinearity"
      ],
      "metadata": {
        "id": "wUMWgOT3W6em"
      }
    },
    {
      "cell_type": "markdown",
      "source": [
        "The Mutual Information is a measure of the similarity between two labels of the same data."
      ],
      "metadata": {
        "id": "L4FiePOjW1vy"
      }
    },
    {
      "cell_type": "markdown",
      "source": [
        "Scikit-learn has two mutual information metrics in its feature_selection module: one for real-valued targets (mutual_info_regression) and one for categorical targets (mutual_info_classif). Our target, total cost, is real-valued. The next couple of cells computes the MI scores for our features and wraps them up in a dataframe.\n",
        "\n",
        "Before doing MI Scores - all the features should have type int\n",
        "Categorical Varaibles have already been converted with Dummy One Hot Key Encoding"
      ],
      "metadata": {
        "id": "64bIz6xqXbhM"
      }
    },
    {
      "cell_type": "code",
      "source": [
        "df.columns"
      ],
      "metadata": {
        "colab": {
          "base_uri": "https://localhost:8080/"
        },
        "id": "eUlrV85BbBgn",
        "outputId": "1b57b68f-c66f-429a-ba05-b1b5e98e2147"
      },
      "execution_count": 69,
      "outputs": [
        {
          "output_type": "execute_result",
          "data": {
            "text/plain": [
              "Index(['AGE', 'FEMALE', 'UNMARRIED', 'ACHD', 'CAD-DVD', 'CAD-SVD', 'CAD-TVD',\n",
              "       'CAD-VSD', 'OS-ASD', 'other- heart', 'other- respiratory',\n",
              "       'other-general', 'other-nervous', 'other-tertalogy', 'PM-VSD', 'RHD',\n",
              "       'BMI = KG/(height/100)', 'HR PULSE', 'BP -HIGH', 'BP-LOW', 'RR',\n",
              "       'Diabetes1', 'Diabetes2', 'hypertension1', 'hypertension2',\n",
              "       'hypertension3', 'other', 'HB', 'UREA', 'CREATININE', 'AMBULANCE',\n",
              "       'WALKED IN', 'TRANSFERRED', 'ALERT', 'ELECTIVE', 'Ln_Total Cost',\n",
              "       'TOTAL LENGTH OF STAY', 'LENGTH OF STAY - ICU', 'LENGTH OF STAY- WARD',\n",
              "       'IMPLANT ', 'COST OF IMPLANT'],\n",
              "      dtype='object')"
            ]
          },
          "metadata": {},
          "execution_count": 69
        }
      ]
    },
    {
      "cell_type": "code",
      "source": [
        "df.shape"
      ],
      "metadata": {
        "colab": {
          "base_uri": "https://localhost:8080/"
        },
        "id": "ghJPRA8qZt26",
        "outputId": "22ac5e1d-2699-4d2b-9e7b-068ec7766781"
      },
      "execution_count": 68,
      "outputs": [
        {
          "output_type": "execute_result",
          "data": {
            "text/plain": [
              "(248, 41)"
            ]
          },
          "metadata": {},
          "execution_count": 68
        }
      ]
    },
    {
      "cell_type": "code",
      "source": [
        "df = df.dropna(axis=0, how=\"any\")"
      ],
      "metadata": {
        "id": "gchTrZ5PZv9K"
      },
      "execution_count": 70,
      "outputs": []
    },
    {
      "cell_type": "code",
      "source": [
        "df.shape"
      ],
      "metadata": {
        "colab": {
          "base_uri": "https://localhost:8080/"
        },
        "id": "Lk8esEMcaeOm",
        "outputId": "b81ecf02-2895-40fa-8265-7d3ed56405dd"
      },
      "execution_count": 71,
      "outputs": [
        {
          "output_type": "execute_result",
          "data": {
            "text/plain": [
              "(191, 41)"
            ]
          },
          "metadata": {},
          "execution_count": 71
        }
      ]
    },
    {
      "cell_type": "code",
      "source": [
        "df.dtypes"
      ],
      "metadata": {
        "colab": {
          "base_uri": "https://localhost:8080/"
        },
        "id": "EwUJmS7mbGq7",
        "outputId": "5db3f8ec-c587-4a43-ed46-ffee789b7373"
      },
      "execution_count": 72,
      "outputs": [
        {
          "output_type": "execute_result",
          "data": {
            "text/plain": [
              "AGE                      float64\n",
              "FEMALE                     int64\n",
              "UNMARRIED                  int64\n",
              "ACHD                       int64\n",
              "CAD-DVD                    int64\n",
              "CAD-SVD                    int64\n",
              "CAD-TVD                    int64\n",
              "CAD-VSD                    int64\n",
              "OS-ASD                     int64\n",
              "other- heart               int64\n",
              "other- respiratory         int64\n",
              "other-general              int64\n",
              "other-nervous              int64\n",
              "other-tertalogy            int64\n",
              "PM-VSD                     int64\n",
              "RHD                        int64\n",
              "BMI = KG/(height/100)    float64\n",
              "HR PULSE                   int64\n",
              "BP -HIGH                 float64\n",
              "BP-LOW                   float64\n",
              "RR                         int64\n",
              "Diabetes1                  int64\n",
              "Diabetes2                  int64\n",
              "hypertension1              int64\n",
              "hypertension2              int64\n",
              "hypertension3              int64\n",
              "other                      int64\n",
              "HB                       float64\n",
              "UREA                     float64\n",
              "CREATININE               float64\n",
              "AMBULANCE                  int64\n",
              "WALKED IN                  int64\n",
              "TRANSFERRED                int64\n",
              "ALERT                      int64\n",
              "ELECTIVE                   int64\n",
              "Ln_Total Cost            float64\n",
              "TOTAL LENGTH OF STAY       int64\n",
              "LENGTH OF STAY - ICU       int64\n",
              "LENGTH OF STAY- WARD       int64\n",
              "IMPLANT                    int64\n",
              "COST OF IMPLANT            int64\n",
              "dtype: object"
            ]
          },
          "metadata": {},
          "execution_count": 72
        }
      ]
    },
    {
      "cell_type": "markdown",
      "source": [
        "## For Mutual Score we need to convert float to int"
      ],
      "metadata": {
        "id": "Qbuq0B_8bJEM"
      }
    },
    {
      "cell_type": "code",
      "source": [
        "X = df.copy()\n",
        "y = X.pop(\"Tot_Cost\")"
      ],
      "metadata": {
        "id": "0LInhVpcbTgX"
      },
      "execution_count": 76,
      "outputs": []
    },
    {
      "cell_type": "code",
      "source": [
        "for i in X.columns:\n",
        "  X[i] = X[i].astype(int)"
      ],
      "metadata": {
        "id": "0G4aDgtwau_R"
      },
      "execution_count": 77,
      "outputs": []
    },
    {
      "cell_type": "code",
      "source": [
        "X.dtypes"
      ],
      "metadata": {
        "colab": {
          "base_uri": "https://localhost:8080/"
        },
        "id": "Kzys38eWYi_A",
        "outputId": "10e8a2c9-7720-446a-e646-c2dd18cfe76b"
      },
      "execution_count": 78,
      "outputs": [
        {
          "output_type": "execute_result",
          "data": {
            "text/plain": [
              "AGE                      int64\n",
              "FEMALE                   int64\n",
              "UNMARRIED                int64\n",
              "ACHD                     int64\n",
              "CAD-DVD                  int64\n",
              "CAD-SVD                  int64\n",
              "CAD-TVD                  int64\n",
              "CAD-VSD                  int64\n",
              "OS-ASD                   int64\n",
              "other- heart             int64\n",
              "other- respiratory       int64\n",
              "other-general            int64\n",
              "other-nervous            int64\n",
              "other-tertalogy          int64\n",
              "PM-VSD                   int64\n",
              "RHD                      int64\n",
              "BMI = KG/(height/100)    int64\n",
              "HR PULSE                 int64\n",
              "BP -HIGH                 int64\n",
              "BP-LOW                   int64\n",
              "RR                       int64\n",
              "Diabetes1                int64\n",
              "Diabetes2                int64\n",
              "hypertension1            int64\n",
              "hypertension2            int64\n",
              "hypertension3            int64\n",
              "other                    int64\n",
              "HB                       int64\n",
              "UREA                     int64\n",
              "CREATININE               int64\n",
              "AMBULANCE                int64\n",
              "WALKED IN                int64\n",
              "TRANSFERRED              int64\n",
              "ALERT                    int64\n",
              "ELECTIVE                 int64\n",
              "TOTAL LENGTH OF STAY     int64\n",
              "LENGTH OF STAY - ICU     int64\n",
              "LENGTH OF STAY- WARD     int64\n",
              "IMPLANT                  int64\n",
              "COST OF IMPLANT          int64\n",
              "dtype: object"
            ]
          },
          "metadata": {},
          "execution_count": 78
        }
      ]
    },
    {
      "cell_type": "code",
      "source": [
        "# All discrete features should now have integer dtypes (double-check this before using MI!)\n",
        "discrete_features = X.dtypes == int"
      ],
      "metadata": {
        "id": "ZwjKZ9uNYuWK"
      },
      "execution_count": 79,
      "outputs": []
    },
    {
      "cell_type": "code",
      "source": [
        "from sklearn.feature_selection import mutual_info_regression\n",
        "\n",
        "def make_mi_scores(X, y, discrete_features):\n",
        "    mi_scores = mutual_info_regression(X, y, discrete_features=discrete_features)\n",
        "    mi_scores = pd.Series(mi_scores, name=\"MI Scores\", index=X.columns)\n",
        "    mi_scores = mi_scores.sort_values(ascending=False)\n",
        "    return mi_scores\n",
        "\n",
        "mi_scores = make_mi_scores(X, y, discrete_features)\n"
      ],
      "metadata": {
        "id": "CVlp3xJGW4KD"
      },
      "execution_count": 82,
      "outputs": []
    },
    {
      "cell_type": "code",
      "source": [
        "mi_scores"
      ],
      "metadata": {
        "colab": {
          "base_uri": "https://localhost:8080/"
        },
        "id": "jD54M1_0WTM_",
        "outputId": "60ef3858-7271-413a-c113-b6b3f21ea17f"
      },
      "execution_count": 81,
      "outputs": [
        {
          "output_type": "execute_result",
          "data": {
            "text/plain": [
              "LENGTH OF STAY - ICU     5.518550e-01\n",
              "TOTAL LENGTH OF STAY     3.607589e-01\n",
              "AGE                      2.262247e-01\n",
              "COST OF IMPLANT          1.840441e-01\n",
              "BMI = KG/(height/100)    1.590870e-01\n",
              "HB                       1.438723e-01\n",
              "UNMARRIED                1.333942e-01\n",
              "IMPLANT                  1.294826e-01\n",
              "LENGTH OF STAY- WARD     1.273275e-01\n",
              "BP-LOW                   1.048264e-01\n",
              "CREATININE               7.390008e-02\n",
              "CAD-DVD                  6.415076e-02\n",
              "other-tertalogy          6.284328e-02\n",
              "HR PULSE                 6.235069e-02\n",
              "CAD-TVD                  5.804148e-02\n",
              "OS-ASD                   5.506622e-02\n",
              "Diabetes2                4.151093e-02\n",
              "RHD                      3.841240e-02\n",
              "FEMALE                   3.545043e-02\n",
              "other- heart             3.415523e-02\n",
              "other                    3.002586e-02\n",
              "hypertension1            2.708632e-02\n",
              "UREA                     2.328718e-02\n",
              "ELECTIVE                 1.989756e-02\n",
              "AMBULANCE                1.924333e-02\n",
              "RR                       1.746520e-02\n",
              "ACHD                     1.651406e-02\n",
              "BP -HIGH                 1.364045e-02\n",
              "PM-VSD                   7.982335e-03\n",
              "hypertension2            6.892490e-03\n",
              "other- respiratory       3.105761e-03\n",
              "Diabetes1                1.149043e-03\n",
              "TRANSFERRED              3.133596e-04\n",
              "CAD-VSD                  2.220446e-16\n",
              "other-nervous            2.220446e-16\n",
              "other-general            2.220446e-16\n",
              "CAD-SVD                  0.000000e+00\n",
              "ALERT                    0.000000e+00\n",
              "hypertension3            0.000000e+00\n",
              "WALKED IN                0.000000e+00\n",
              "Name: MI Scores, dtype: float64"
            ]
          },
          "metadata": {},
          "execution_count": 81
        }
      ]
    },
    {
      "cell_type": "code",
      "source": [
        "def plot_mi_scores(scores):\n",
        "    scores = scores.sort_values(ascending=True)\n",
        "    width = np.arange(len(scores))\n",
        "    ticks = list(scores.index)\n",
        "    plt.barh(width, scores)\n",
        "    plt.yticks(width, ticks)\n",
        "    plt.title(\"Mutual Information Scores\")\n",
        "\n",
        "\n",
        "plt.figure(dpi=100, figsize=(10, 20))\n",
        "plot_mi_scores(mi_scores)"
      ],
      "metadata": {
        "colab": {
          "base_uri": "https://localhost:8080/",
          "height": 1000
        },
        "id": "1EfqGYe0b2OM",
        "outputId": "0e389183-9229-4b5a-feac-79b390ab9ae5"
      },
      "execution_count": 87,
      "outputs": [
        {
          "output_type": "display_data",
          "data": {
            "text/plain": [
              "<Figure size 1000x2000 with 1 Axes>"
            ],
            "image/png": "[encoded data removed]"
          },
          "metadata": {}
        }
      ]
    },
    {
      "cell_type": "code",
      "source": [
        "#Taking on the top 10 features where the MI Score is high"
      ],
      "metadata": {
        "id": "ThfU2LCsdyom"
      },
      "execution_count": null,
      "outputs": []
    },
    {
      "cell_type": "markdown",
      "source": [
        "# Again upload the MH data and answer the questions"
      ],
      "metadata": {
        "id": "KgOryZzngeqv"
      }
    },
    {
      "cell_type": "markdown",
      "source": [
        "Answer 1 : a) Develop a simple linear regression model to check if there is an association between total cost and body weight? How will you interpret the regression coefficient for body weight?\n",
        "(b) Is it OK to conclude that a patient weighing 51 kgs us likely to spend atleast 1000 INR (money units) than patient who weighs 50kgs (use 5% significance) "
      ],
      "metadata": {
        "id": "-O7f70_xekCl"
      }
    },
    {
      "cell_type": "code",
      "source": [
        "!ls"
      ],
      "metadata": {
        "colab": {
          "base_uri": "https://localhost:8080/"
        },
        "id": "oQFp0Q42gZ2u",
        "outputId": "c514937c-c2b2-44a7-a59d-5bbb1e32c1a9"
      },
      "execution_count": 92,
      "outputs": [
        {
          "output_type": "stream",
          "name": "stdout",
          "text": [
            " Anisha_score.csv\t    MH_Predict_cost.ipynb\n",
            " CKD.ipynb\t\t    PatientPortalAnalysis.pptx\n",
            " Data_MH.csv\t\t    PatientPortalUsage.ipynb\n",
            " Dataset.csv\t\t    ProstrateCancer.ipynb\n",
            " Final_file.csv\t\t    purchase_fre_job.png\n",
            " FinalRaw.csv\t\t   'Survival Analysis ProstrateCancer.ipynb'\n",
            " final_score.csv\t    sympotms.csv\n",
            " Final_Tenure1.csv\t    sympotms.gsheet\n",
            " Final_Tenure1.gsheet\t    sympotms.xlsx\n",
            " Final_Tenure.csv\t    tenure.csv\n",
            " hints5_cycle2_public.csv   TimeSeries.ipynb\n",
            " inbetween.csv\t\t    training_data.csv\n",
            " inbetween.gsheet\t    Webscrapper_zocdoc.ipynb\n",
            " MH_allData.csv\n"
          ]
        }
      ]
    },
    {
      "cell_type": "code",
      "source": [
        "df1 = pd.read_csv('MH_allData.csv')\n",
        "df1"
      ],
      "metadata": {
        "colab": {
          "base_uri": "https://localhost:8080/",
          "height": 502
        },
        "id": "zdoj4Yybevm3",
        "outputId": "224af5cb-219d-4fa1-a34b-9e7bc77f51d8"
      },
      "execution_count": 93,
      "outputs": [
        {
          "output_type": "execute_result",
          "data": {
            "text/plain": [
              "     SL.   AGE GENDER  MALE MARITAL STATUS  UNMARRIED KEY COMPLAINTS -CODE  \\\n",
              "0      1  58.0      M     0        MARRIED          0         other- heart   \n",
              "1      2  59.0      M     0        MARRIED          0              CAD-DVD   \n",
              "2      3  82.0      M     0        MARRIED          0              CAD-TVD   \n",
              "3      4  46.0      M     0        MARRIED          0              CAD-DVD   \n",
              "4      5  60.0      M     0        MARRIED          0              CAD-DVD   \n",
              "..   ...   ...    ...   ...            ...        ...                  ...   \n",
              "243  244  51.0      M     0        MARRIED          0         other- heart   \n",
              "244  245  58.0      M     0        MARRIED          0              CAD-TVD   \n",
              "245  246  44.0      M     0        MARRIED          0              CAD-TVD   \n",
              "246  247  60.0      M     0        MARRIED          0         other- heart   \n",
              "247  248  30.0      M     0        MARRIED          0                  RHD   \n",
              "\n",
              "     ACHD  CAD-DVD  CAD-SVD  ...  TOTAL COST TO HOSPITAL   Ln(Total Cost)  \\\n",
              "0       0        0        0  ...                 660293.0       13.400439   \n",
              "1       0        1        0  ...                 809130.0       13.603715   \n",
              "2       0        0        0  ...                 362231.0       12.800037   \n",
              "3       0        1        0  ...                 629990.0       13.353459   \n",
              "4       0        1        0  ...                 444876.0       13.005551   \n",
              "..    ...      ...      ...  ...                      ...             ...   \n",
              "243     0        0        0  ...                 295155.0       12.595256   \n",
              "244     0        0        0  ...                 200321.0       12.207676   \n",
              "245     0        0        0  ...                 191188.0       12.161013   \n",
              "246     0        0        0  ...                 202807.0       12.220010   \n",
              "247     0        0        0  ...                 248112.0       12.421636   \n",
              "\n",
              "     TOTAL LENGTH OF STAY  LENGTH OF STAY - ICU  LENGTH OF STAY- WARD  \\\n",
              "0                      25                    12                    13   \n",
              "1                      41                    20                    21   \n",
              "2                      18                     9                     9   \n",
              "3                      14                    13                     1   \n",
              "4                      24                    12                    12   \n",
              "..                    ...                   ...                   ...   \n",
              "243                    10                     3                     7   \n",
              "244                    11                     2                     9   \n",
              "245                    13                     5                     8   \n",
              "246                     9                     6                     3   \n",
              "247                    10                     4                     6   \n",
              "\n",
              "     IMPLANT USED (Y/N)  IMPLANT   COST OF IMPLANT  Unnamed: 51  Unnamed: 52  \n",
              "0                     Y         1            38000    13.401829          0.0  \n",
              "1                     Y         1            39690    13.605126          0.0  \n",
              "2                     N         0                0    12.801365          0.0  \n",
              "3                     Y         1            89450    13.354844          0.0  \n",
              "4                     N         0                0    13.006899          0.0  \n",
              "..                  ...       ...              ...          ...          ...  \n",
              "243                   Y         1            35000    12.596562          0.0  \n",
              "244                   Y         1            26000    12.208942          0.0  \n",
              "245                   N         0                0    12.162274          0.0  \n",
              "246                   N         0                0    12.221277          0.0  \n",
              "247                   Y         1            41800    12.422924          0.0  \n",
              "\n",
              "[248 rows x 53 columns]"
            ],
            "text/html": [
              "\n",
              "  <div id=\"df-d6a1d18b-b663-4a18-b9cd-2b02a875a9d4\">\n",
              "    <div class=\"colab-df-container\">\n",
              "      <div>\n",
              "<style scoped>\n",
              "    .dataframe tbody tr th:only-of-type {\n",
              "        vertical-align: middle;\n",
              "    }\n",
              "\n",
              "    .dataframe tbody tr th {\n",
              "        vertical-align: top;\n",
              "    }\n",
              "\n",
              "    .dataframe thead th {\n",
              "        text-align: right;\n",
              "    }\n",
              "</style>\n",
              "<table border=\"1\" class=\"dataframe\">\n",
              "  <thead>\n",
              "    <tr style=\"text-align: right;\">\n",
              "      <th></th>\n",
              "      <th>SL.</th>\n",
              "      <th>AGE</th>\n",
              "      <th>GENDER</th>\n",
              "      <th>MALE</th>\n",
              "      <th>MARITAL STATUS</th>\n",
              "      <th>UNMARRIED</th>\n",
              "      <th>KEY COMPLAINTS -CODE</th>\n",
              "      <th>ACHD</th>\n",
              "      <th>CAD-DVD</th>\n",
              "      <th>CAD-SVD</th>\n",
              "      <th>...</th>\n",
              "      <th>TOTAL COST TO HOSPITAL</th>\n",
              "      <th>Ln(Total Cost)</th>\n",
              "      <th>TOTAL LENGTH OF STAY</th>\n",
              "      <th>LENGTH OF STAY - ICU</th>\n",
              "      <th>LENGTH OF STAY- WARD</th>\n",
              "      <th>IMPLANT USED (Y/N)</th>\n",
              "      <th>IMPLANT</th>\n",
              "      <th>COST OF IMPLANT</th>\n",
              "      <th>Unnamed: 51</th>\n",
              "      <th>Unnamed: 52</th>\n",
              "    </tr>\n",
              "  </thead>\n",
              "  <tbody>\n",
              "    <tr>\n",
              "      <th>0</th>\n",
              "      <td>1</td>\n",
              "      <td>58.0</td>\n",
              "      <td>M</td>\n",
              "      <td>0</td>\n",
              "      <td>MARRIED</td>\n",
              "      <td>0</td>\n",
              "      <td>other- heart</td>\n",
              "      <td>0</td>\n",
              "      <td>0</td>\n",
              "      <td>0</td>\n",
              "      <td>...</td>\n",
              "      <td>660293.0</td>\n",
              "      <td>13.400439</td>\n",
              "      <td>25</td>\n",
              "      <td>12</td>\n",
              "      <td>13</td>\n",
              "      <td>Y</td>\n",
              "      <td>1</td>\n",
              "      <td>38000</td>\n",
              "      <td>13.401829</td>\n",
              "      <td>0.0</td>\n",
              "    </tr>\n",
              "    <tr>\n",
              "      <th>1</th>\n",
              "      <td>2</td>\n",
              "      <td>59.0</td>\n",
              "      <td>M</td>\n",
              "      <td>0</td>\n",
              "      <td>MARRIED</td>\n",
              "      <td>0</td>\n",
              "      <td>CAD-DVD</td>\n",
              "      <td>0</td>\n",
              "      <td>1</td>\n",
              "      <td>0</td>\n",
              "      <td>...</td>\n",
              "      <td>809130.0</td>\n",
              "      <td>13.603715</td>\n",
              "      <td>41</td>\n",
              "      <td>20</td>\n",
              "      <td>21</td>\n",
              "      <td>Y</td>\n",
              "      <td>1</td>\n",
              "      <td>39690</td>\n",
              "      <td>13.605126</td>\n",
              "      <td>0.0</td>\n",
              "    </tr>\n",
              "    <tr>\n",
              "      <th>2</th>\n",
              "      <td>3</td>\n",
              "      <td>82.0</td>\n",
              "      <td>M</td>\n",
              "      <td>0</td>\n",
              "      <td>MARRIED</td>\n",
              "      <td>0</td>\n",
              "      <td>CAD-TVD</td>\n",
              "      <td>0</td>\n",
              "      <td>0</td>\n",
              "      <td>0</td>\n",
              "      <td>...</td>\n",
              "      <td>362231.0</td>\n",
              "      <td>12.800037</td>\n",
              "      <td>18</td>\n",
              "      <td>9</td>\n",
              "      <td>9</td>\n",
              "      <td>N</td>\n",
              "      <td>0</td>\n",
              "      <td>0</td>\n",
              "      <td>12.801365</td>\n",
              "      <td>0.0</td>\n",
              "    </tr>\n",
              "    <tr>\n",
              "      <th>3</th>\n",
              "      <td>4</td>\n",
              "      <td>46.0</td>\n",
              "      <td>M</td>\n",
              "      <td>0</td>\n",
              "      <td>MARRIED</td>\n",
              "      <td>0</td>\n",
              "      <td>CAD-DVD</td>\n",
              "      <td>0</td>\n",
              "      <td>1</td>\n",
              "      <td>0</td>\n",
              "      <td>...</td>\n",
              "      <td>629990.0</td>\n",
              "      <td>13.353459</td>\n",
              "      <td>14</td>\n",
              "      <td>13</td>\n",
              "      <td>1</td>\n",
              "      <td>Y</td>\n",
              "      <td>1</td>\n",
              "      <td>89450</td>\n",
              "      <td>13.354844</td>\n",
              "      <td>0.0</td>\n",
              "    </tr>\n",
              "    <tr>\n",
              "      <th>4</th>\n",
              "      <td>5</td>\n",
              "      <td>60.0</td>\n",
              "      <td>M</td>\n",
              "      <td>0</td>\n",
              "      <td>MARRIED</td>\n",
              "      <td>0</td>\n",
              "      <td>CAD-DVD</td>\n",
              "      <td>0</td>\n",
              "      <td>1</td>\n",
              "      <td>0</td>\n",
              "      <td>...</td>\n",
              "      <td>444876.0</td>\n",
              "      <td>13.005551</td>\n",
              "      <td>24</td>\n",
              "      <td>12</td>\n",
              "      <td>12</td>\n",
              "      <td>N</td>\n",
              "      <td>0</td>\n",
              "      <td>0</td>\n",
              "      <td>13.006899</td>\n",
              "      <td>0.0</td>\n",
              "    </tr>\n",
              "    <tr>\n",
              "      <th>...</th>\n",
              "      <td>...</td>\n",
              "      <td>...</td>\n",
              "      <td>...</td>\n",
              "      <td>...</td>\n",
              "      <td>...</td>\n",
              "      <td>...</td>\n",
              "      <td>...</td>\n",
              "      <td>...</td>\n",
              "      <td>...</td>\n",
              "      <td>...</td>\n",
              "      <td>...</td>\n",
              "      <td>...</td>\n",
              "      <td>...</td>\n",
              "      <td>...</td>\n",
              "      <td>...</td>\n",
              "      <td>...</td>\n",
              "      <td>...</td>\n",
              "      <td>...</td>\n",
              "      <td>...</td>\n",
              "      <td>...</td>\n",
              "      <td>...</td>\n",
              "    </tr>\n",
              "    <tr>\n",
              "      <th>243</th>\n",
              "      <td>244</td>\n",
              "      <td>51.0</td>\n",
              "      <td>M</td>\n",
              "      <td>0</td>\n",
              "      <td>MARRIED</td>\n",
              "      <td>0</td>\n",
              "      <td>other- heart</td>\n",
              "      <td>0</td>\n",
              "      <td>0</td>\n",
              "      <td>0</td>\n",
              "      <td>...</td>\n",
              "      <td>295155.0</td>\n",
              "      <td>12.595256</td>\n",
              "      <td>10</td>\n",
              "      <td>3</td>\n",
              "      <td>7</td>\n",
              "      <td>Y</td>\n",
              "      <td>1</td>\n",
              "      <td>35000</td>\n",
              "      <td>12.596562</td>\n",
              "      <td>0.0</td>\n",
              "    </tr>\n",
              "    <tr>\n",
              "      <th>244</th>\n",
              "      <td>245</td>\n",
              "      <td>58.0</td>\n",
              "      <td>M</td>\n",
              "      <td>0</td>\n",
              "      <td>MARRIED</td>\n",
              "      <td>0</td>\n",
              "      <td>CAD-TVD</td>\n",
              "      <td>0</td>\n",
              "      <td>0</td>\n",
              "      <td>0</td>\n",
              "      <td>...</td>\n",
              "      <td>200321.0</td>\n",
              "      <td>12.207676</td>\n",
              "      <td>11</td>\n",
              "      <td>2</td>\n",
              "      <td>9</td>\n",
              "      <td>Y</td>\n",
              "      <td>1</td>\n",
              "      <td>26000</td>\n",
              "      <td>12.208942</td>\n",
              "      <td>0.0</td>\n",
              "    </tr>\n",
              "    <tr>\n",
              "      <th>245</th>\n",
              "      <td>246</td>\n",
              "      <td>44.0</td>\n",
              "      <td>M</td>\n",
              "      <td>0</td>\n",
              "      <td>MARRIED</td>\n",
              "      <td>0</td>\n",
              "      <td>CAD-TVD</td>\n",
              "      <td>0</td>\n",
              "      <td>0</td>\n",
              "      <td>0</td>\n",
              "      <td>...</td>\n",
              "      <td>191188.0</td>\n",
              "      <td>12.161013</td>\n",
              "      <td>13</td>\n",
              "      <td>5</td>\n",
              "      <td>8</td>\n",
              "      <td>N</td>\n",
              "      <td>0</td>\n",
              "      <td>0</td>\n",
              "      <td>12.162274</td>\n",
              "      <td>0.0</td>\n",
              "    </tr>\n",
              "    <tr>\n",
              "      <th>246</th>\n",
              "      <td>247</td>\n",
              "      <td>60.0</td>\n",
              "      <td>M</td>\n",
              "      <td>0</td>\n",
              "      <td>MARRIED</td>\n",
              "      <td>0</td>\n",
              "      <td>other- heart</td>\n",
              "      <td>0</td>\n",
              "      <td>0</td>\n",
              "      <td>0</td>\n",
              "      <td>...</td>\n",
              "      <td>202807.0</td>\n",
              "      <td>12.220010</td>\n",
              "      <td>9</td>\n",
              "      <td>6</td>\n",
              "      <td>3</td>\n",
              "      <td>N</td>\n",
              "      <td>0</td>\n",
              "      <td>0</td>\n",
              "      <td>12.221277</td>\n",
              "      <td>0.0</td>\n",
              "    </tr>\n",
              "    <tr>\n",
              "      <th>247</th>\n",
              "      <td>248</td>\n",
              "      <td>30.0</td>\n",
              "      <td>M</td>\n",
              "      <td>0</td>\n",
              "      <td>MARRIED</td>\n",
              "      <td>0</td>\n",
              "      <td>RHD</td>\n",
              "      <td>0</td>\n",
              "      <td>0</td>\n",
              "      <td>0</td>\n",
              "      <td>...</td>\n",
              "      <td>248112.0</td>\n",
              "      <td>12.421636</td>\n",
              "      <td>10</td>\n",
              "      <td>4</td>\n",
              "      <td>6</td>\n",
              "      <td>Y</td>\n",
              "      <td>1</td>\n",
              "      <td>41800</td>\n",
              "      <td>12.422924</td>\n",
              "      <td>0.0</td>\n",
              "    </tr>\n",
              "  </tbody>\n",
              "</table>\n",
              "<p>248 rows × 53 columns</p>\n",
              "</div>\n",
              "      <button class=\"colab-df-convert\" onclick=\"convertToInteractive('df-d6a1d18b-b663-4a18-b9cd-2b02a875a9d4')\"\n",
              "              title=\"Convert this dataframe to an interactive table.\"\n",
              "              style=\"display:none;\">\n",
              "        \n",
              "  <svg xmlns=\"http://www.w3.org/2000/svg\" height=\"24px\"viewBox=\"0 0 24 24\"\n",
              "       width=\"24px\">\n",
              "    <path d=\"M0 0h24v24H0V0z\" fill=\"none\"/>\n",
              "    <path d=\"M18.56 5.44l.94 2.06.94-2.06 2.06-.94-2.06-.94-.94-2.06-.94 2.06-2.06.94zm-11 1L8.5 8.5l.94-2.06 2.06-.94-2.06-.94L8.5 2.5l-.94 2.06-2.06.94zm10 10l.94 2.06.94-2.06 2.06-.94-2.06-.94-.94-2.06-.94 2.06-2.06.94z\"/><path d=\"M17.41 7.96l-1.37-1.37c-.4-.4-.92-.59-1.43-.59-.52 0-1.04.2-1.43.59L10.3 9.45l-7.72 7.72c-.78.78-.78 2.05 0 2.83L4 21.41c.39.39.9.59 1.41.59.51 0 1.02-.2 1.41-.59l7.78-7.78 2.81-2.81c.8-.78.8-2.07 0-2.86zM5.41 20L4 18.59l7.72-7.72 1.47 1.35L5.41 20z\"/>\n",
              "  </svg>\n",
              "      </button>\n",
              "      \n",
              "  <style>\n",
              "    .colab-df-container {\n",
              "      display:flex;\n",
              "      flex-wrap:wrap;\n",
              "      gap: 12px;\n",
              "    }\n",
              "\n",
              "    .colab-df-convert {\n",
              "      background-color: #E8F0FE;\n",
              "      border: none;\n",
              "      border-radius: 50%;\n",
              "      cursor: pointer;\n",
              "      display: none;\n",
              "      fill: #1967D2;\n",
              "      height: 32px;\n",
              "      padding: 0 0 0 0;\n",
              "      width: 32px;\n",
              "    }\n",
              "\n",
              "    .colab-df-convert:hover {\n",
              "      background-color: #E2EBFA;\n",
              "      box-shadow: 0px 1px 2px rgba(60, 64, 67, 0.3), 0px 1px 3px 1px rgba(60, 64, 67, 0.15);\n",
              "      fill: #174EA6;\n",
              "    }\n",
              "\n",
              "    [theme=dark] .colab-df-convert {\n",
              "      background-color: #3B4455;\n",
              "      fill: #D2E3FC;\n",
              "    }\n",
              "\n",
              "    [theme=dark] .colab-df-convert:hover {\n",
              "      background-color: #434B5C;\n",
              "      box-shadow: 0px 1px 3px 1px rgba(0, 0, 0, 0.15);\n",
              "      filter: drop-shadow(0px 1px 2px rgba(0, 0, 0, 0.3));\n",
              "      fill: #FFFFFF;\n",
              "    }\n",
              "  </style>\n",
              "\n",
              "      <script>\n",
              "        const buttonEl =\n",
              "          document.querySelector('#df-d6a1d18b-b663-4a18-b9cd-2b02a875a9d4 button.colab-df-convert');\n",
              "        buttonEl.style.display =\n",
              "          google.colab.kernel.accessAllowed ? 'block' : 'none';\n",
              "\n",
              "        async function convertToInteractive(key) {\n",
              "          const element = document.querySelector('#df-d6a1d18b-b663-4a18-b9cd-2b02a875a9d4');\n",
              "          const dataTable =\n",
              "            await google.colab.kernel.invokeFunction('convertToInteractive',\n",
              "                                                     [key], {});\n",
              "          if (!dataTable) return;\n",
              "\n",
              "          const docLinkHtml = 'Like what you see? Visit the ' +\n",
              "            '<a target=\"_blank\" href=https://colab.research.google.com/notebooks/data_table.ipynb>data table notebook</a>'\n",
              "            + ' to learn more about interactive tables.';\n",
              "          element.innerHTML = '';\n",
              "          dataTable['output_type'] = 'display_data';\n",
              "          await google.colab.output.renderOutput(dataTable, element);\n",
              "          const docLink = document.createElement('div');\n",
              "          docLink.innerHTML = docLinkHtml;\n",
              "          element.appendChild(docLink);\n",
              "        }\n",
              "      </script>\n",
              "    </div>\n",
              "  </div>\n",
              "  "
            ]
          },
          "metadata": {},
          "execution_count": 93
        }
      ]
    },
    {
      "cell_type": "code",
      "source": [
        "df1.rename(columns={'TOTAL COST TO HOSPITAL ': 'Total_C'}, inplace=True)"
      ],
      "metadata": {
        "id": "WnJVFDUOguGD"
      },
      "execution_count": 98,
      "outputs": []
    },
    {
      "cell_type": "code",
      "source": [
        "df1.rename(columns={'Ln(Total Cost)': 'Ln_Total_C'}, inplace=True)"
      ],
      "metadata": {
        "id": "yZPCHIBPhNJJ"
      },
      "execution_count": 101,
      "outputs": []
    },
    {
      "cell_type": "code",
      "source": [
        "df1.columns"
      ],
      "metadata": {
        "colab": {
          "base_uri": "https://localhost:8080/"
        },
        "id": "dCsQf5Sid7uB",
        "outputId": "a2ff99bb-3493-47b1-e472-b8eb599a8c4e"
      },
      "execution_count": 132,
      "outputs": [
        {
          "output_type": "execute_result",
          "data": {
            "text/plain": [
              "Index(['SL.', 'AGE', 'GENDER', 'MALE', 'MARITAL STATUS', 'UNMARRIED',\n",
              "       'KEY COMPLAINTS -CODE', 'ACHD', 'CAD-DVD', 'CAD-SVD', 'CAD-TVD',\n",
              "       'CAD-VSD', 'OS-ASD', 'other- heart', 'other- respiratory',\n",
              "       'other-general', 'other-nervous', 'other-tertalogy', 'PM-VSD', 'RHD',\n",
              "       'BODY WEIGHT', 'BODY HEIGHT', 'HR PULSE', 'BP -HIGH', 'BP-LOW', 'RR',\n",
              "       'PAST MEDICAL HISTORY CODE', 'Diabetes1', 'Diabetes2', 'hypertension1',\n",
              "       'hypertension2', 'hypertension3', 'other', 'HB', 'UREA', 'CREATININE',\n",
              "       'MODE OF ARRIVAL', 'AMBULANCE', 'TRANSFERRED',\n",
              "       'STATE AT THE TIME OF ARRIVAL', 'ALERT', 'TYPE OF ADMSN', 'ELECTIVE',\n",
              "       'Total_C', 'Ln_Total_C', 'TOTAL LENGTH OF STAY', 'LENGTH OF STAY - ICU',\n",
              "       'LENGTH OF STAY- WARD', 'IMPLANT USED (Y/N)', 'IMPLANT',\n",
              "       'COST OF IMPLANT', 'Unnamed: 51', 'Unnamed: 52'],\n",
              "      dtype='object')"
            ]
          },
          "metadata": {},
          "execution_count": 132
        }
      ]
    },
    {
      "cell_type": "code",
      "source": [
        "# Creating X and y\n",
        "X1 = df1['BODY WEIGHT']\n",
        "y1 = df1['Total_C']\n",
        "\n",
        "# Splitting the varaibles as training and testing\n",
        "from sklearn.model_selection import train_test_split\n",
        "X_train1, X_test1, y_train1, y_test1 = train_test_split(X1, y1, train_size = 0.8, \n",
        "                                                    test_size = 0.2, random_state = 100)\n",
        "\n",
        "# Importing Statsmodels.api library from Stamodel package\n",
        "import statsmodels.api as sm\n",
        "\n",
        "# Adding a constant to get an intercept\n",
        "X_train_sm = sm.add_constant(X_train1)\n",
        "\n",
        "# Fitting the resgression line using 'OLS'\n",
        "lr = sm.OLS(y_train1, X_train_sm).fit()\n",
        "\n",
        "# Printing the parameters\n",
        "print(lr.params)\n",
        "\n",
        "# Performing a summary to list out all the different parameters of the regression line fitted\n",
        "print(lr.summary())"
      ],
      "metadata": {
        "colab": {
          "base_uri": "https://localhost:8080/"
        },
        "id": "d_Idf03Gn7Un",
        "outputId": "130ccd1f-e10a-4739-954d-b283d1e6ca0c"
      },
      "execution_count": 134,
      "outputs": [
        {
          "output_type": "stream",
          "name": "stdout",
          "text": [
            "const          136097.050703\n",
            "BODY WEIGHT      1786.631621\n",
            "dtype: float64\n",
            "                            OLS Regression Results                            \n",
            "==============================================================================\n",
            "Dep. Variable:                Total_C   R-squared:                       0.106\n",
            "Model:                            OLS   Adj. R-squared:                  0.101\n",
            "Method:                 Least Squares   F-statistic:                     23.18\n",
            "Date:                Tue, 15 Mar 2022   Prob (F-statistic):           2.94e-06\n",
            "Time:                        17:30:23   Log-Likelihood:                -2595.8\n",
            "No. Observations:                 198   AIC:                             5196.\n",
            "Df Residuals:                     196   BIC:                             5202.\n",
            "Df Model:                           1                                         \n",
            "Covariance Type:            nonrobust                                         \n",
            "===============================================================================\n",
            "                  coef    std err          t      P>|t|      [0.025      0.975]\n",
            "-------------------------------------------------------------------------------\n",
            "const        1.361e+05   1.64e+04      8.299      0.000    1.04e+05    1.68e+05\n",
            "BODY WEIGHT  1786.6316    371.086      4.815      0.000    1054.798    2518.465\n",
            "==============================================================================\n",
            "Omnibus:                      121.753   Durbin-Watson:                   1.949\n",
            "Prob(Omnibus):                  0.000   Jarque-Bera (JB):              734.602\n",
            "Skew:                           2.398   Prob(JB):                    3.04e-160\n",
            "Kurtosis:                      11.126   Cond. No.                         84.9\n",
            "==============================================================================\n",
            "\n",
            "Warnings:\n",
            "[1] Standard Errors assume that the covariance matrix of the errors is correctly specified.\n"
          ]
        },
        {
          "output_type": "stream",
          "name": "stderr",
          "text": [
            "/usr/local/lib/python3.7/dist-packages/statsmodels/tsa/tsatools.py:117: FutureWarning: In a future version of pandas all arguments of concat except for the argument 'objs' will be keyword-only\n",
            "  x = pd.concat(x[::order], 1)\n"
          ]
        }
      ]
    },
    {
      "cell_type": "markdown",
      "source": [
        "# Final the Linear Equation from top 10 features"
      ],
      "metadata": {
        "id": "VbgTb73zk_hz"
      }
    },
    {
      "cell_type": "code",
      "source": [
        "#original DF with transformations\n",
        "df.columns"
      ],
      "metadata": {
        "colab": {
          "base_uri": "https://localhost:8080/"
        },
        "id": "zEUCE6fBjZ07",
        "outputId": "17ec0823-41fa-4218-ee0a-8b41af1686b4"
      },
      "execution_count": 105,
      "outputs": [
        {
          "output_type": "execute_result",
          "data": {
            "text/plain": [
              "Index(['AGE', 'FEMALE', 'UNMARRIED', 'ACHD', 'CAD-DVD', 'CAD-SVD', 'CAD-TVD',\n",
              "       'CAD-VSD', 'OS-ASD', 'other- heart', 'other- respiratory',\n",
              "       'other-general', 'other-nervous', 'other-tertalogy', 'PM-VSD', 'RHD',\n",
              "       'BMI = KG/(height/100)', 'HR PULSE', 'BP -HIGH', 'BP-LOW', 'RR',\n",
              "       'Diabetes1', 'Diabetes2', 'hypertension1', 'hypertension2',\n",
              "       'hypertension3', 'other', 'HB', 'UREA', 'CREATININE', 'AMBULANCE',\n",
              "       'WALKED IN', 'TRANSFERRED', 'ALERT', 'ELECTIVE', 'Tot_Cost',\n",
              "       'TOTAL LENGTH OF STAY', 'LENGTH OF STAY - ICU', 'LENGTH OF STAY- WARD',\n",
              "       'IMPLANT ', 'COST OF IMPLANT'],\n",
              "      dtype='object')"
            ]
          },
          "metadata": {},
          "execution_count": 105
        }
      ]
    },
    {
      "cell_type": "code",
      "source": [
        "df.rename(columns={'IMPLANT ': 'IMPLANT'}, inplace=True)"
      ],
      "metadata": {
        "colab": {
          "base_uri": "https://localhost:8080/"
        },
        "id": "y7lsdPfnkOpI",
        "outputId": "09cd7982-a6f1-40a8-9c0c-88dc6530e6c1"
      },
      "execution_count": 111,
      "outputs": [
        {
          "output_type": "stream",
          "name": "stderr",
          "text": [
            "/usr/local/lib/python3.7/dist-packages/pandas/core/frame.py:5047: SettingWithCopyWarning: \n",
            "A value is trying to be set on a copy of a slice from a DataFrame\n",
            "\n",
            "See the caveats in the documentation: https://pandas.pydata.org/pandas-docs/stable/user_guide/indexing.html#returning-a-view-versus-a-copy\n",
            "  errors=errors,\n"
          ]
        }
      ]
    },
    {
      "cell_type": "code",
      "source": [
        "df.rename(columns={'BMI = KG/(height/100)': 'BMI'}, inplace=True)"
      ],
      "metadata": {
        "colab": {
          "base_uri": "https://localhost:8080/"
        },
        "id": "hzcD8rAskY4s",
        "outputId": "0710701c-109b-4a22-9255-8bbd308f7577"
      },
      "execution_count": 112,
      "outputs": [
        {
          "output_type": "stream",
          "name": "stderr",
          "text": [
            "/usr/local/lib/python3.7/dist-packages/pandas/core/frame.py:5047: SettingWithCopyWarning: \n",
            "A value is trying to be set on a copy of a slice from a DataFrame\n",
            "\n",
            "See the caveats in the documentation: https://pandas.pydata.org/pandas-docs/stable/user_guide/indexing.html#returning-a-view-versus-a-copy\n",
            "  errors=errors,\n"
          ]
        }
      ]
    },
    {
      "cell_type": "code",
      "source": [
        "top_10 = ['LENGTH OF STAY - ICU','TOTAL LENGTH OF STAY','AGE','COST OF IMPLANT','BMI','HB','UNMARRIED','IMPLANT','LENGTH OF STAY- WARD','BP-LOW','Tot_Cost']"
      ],
      "metadata": {
        "id": "uNsPuTyliI9k"
      },
      "execution_count": 115,
      "outputs": []
    },
    {
      "cell_type": "code",
      "source": [
        "final = df[top_10]"
      ],
      "metadata": {
        "id": "zzpMdS16kBAk"
      },
      "execution_count": 117,
      "outputs": []
    },
    {
      "cell_type": "code",
      "source": [
        "from sklearn.model_selection import train_test_split\n",
        "train,test=train_test_split(final,test_size=0.2,random_state=2)"
      ],
      "metadata": {
        "id": "Ccit6tmZk3Id"
      },
      "execution_count": 118,
      "outputs": []
    },
    {
      "cell_type": "code",
      "source": [
        "x_train=train.drop('Tot_Cost',axis=1)\n",
        "y_train=train['Tot_Cost']\n",
        "x_test=test.drop('Tot_Cost',axis=1)\n",
        "y_test=test['Tot_Cost']"
      ],
      "metadata": {
        "id": "JzLDZL-jiAHy"
      },
      "execution_count": 119,
      "outputs": []
    },
    {
      "cell_type": "code",
      "source": [
        "from sklearn.linear_model import LinearRegression\n",
        "from sklearn import metrics"
      ],
      "metadata": {
        "id": "osdR2F0RlgrG"
      },
      "execution_count": 120,
      "outputs": []
    },
    {
      "cell_type": "code",
      "source": [
        "#Linear Regression\n",
        "lm= LinearRegression()\n",
        "#Model\n",
        "lm.fit(x_train, y_train)\n",
        "#Prediction\n",
        "predictions = lm.predict(x_test)"
      ],
      "metadata": {
        "id": "BQ6Z6S2ElFEG"
      },
      "execution_count": 122,
      "outputs": []
    },
    {
      "cell_type": "code",
      "source": [
        "#R^2 value can be find like this: it tell us how much variance our model explains so our model explain 74 percent of variance\n",
        "metrics.explained_variance_score(y_test, predictions)"
      ],
      "metadata": {
        "colab": {
          "base_uri": "https://localhost:8080/"
        },
        "id": "4fW5Oz8Rlm0S",
        "outputId": "beb0105d-c239-4727-86cf-ee85cbc1a4c6"
      },
      "execution_count": 123,
      "outputs": [
        {
          "output_type": "execute_result",
          "data": {
            "text/plain": [
              "0.7411730370681131"
            ]
          },
          "metadata": {},
          "execution_count": 123
        }
      ]
    },
    {
      "cell_type": "code",
      "source": [
        "np.sqrt(metrics.mean_squared_error(y_test, predictions))"
      ],
      "metadata": {
        "colab": {
          "base_uri": "https://localhost:8080/"
        },
        "id": "a2NiDfn0ltOe",
        "outputId": "d481c2e4-bedf-4028-fe68-d97ffdcc1daa"
      },
      "execution_count": 124,
      "outputs": [
        {
          "output_type": "execute_result",
          "data": {
            "text/plain": [
              "0.37223911195073817"
            ]
          },
          "metadata": {},
          "execution_count": 124
        }
      ]
    },
    {
      "cell_type": "code",
      "source": [
        "plt.scatter(y_test, predictions)"
      ],
      "metadata": {
        "colab": {
          "base_uri": "https://localhost:8080/",
          "height": 280
        },
        "id": "H2XUwOoZl8hO",
        "outputId": "63b4c341-3eaa-4f8c-eb05-e39fafe0fcd1"
      },
      "execution_count": 125,
      "outputs": [
        {
          "output_type": "execute_result",
          "data": {
            "text/plain": [
              "<matplotlib.collections.PathCollection at 0x7f70e14f41d0>"
            ]
          },
          "metadata": {},
          "execution_count": 125
        },
        {
          "output_type": "display_data",
          "data": {
            "text/plain": [
              "<Figure size 432x288 with 1 Axes>"
            ],
            "image/png": "[encoded data removed]"
          },
          "metadata": {}
        }
      ]
    },
    {
      "cell_type": "code",
      "source": [
        "sns.distplot((y_test-predictions), bins = 50)"
      ],
      "metadata": {
        "colab": {
          "base_uri": "https://localhost:8080/",
          "height": 350
        },
        "id": "9Mw2yMI2l-yH",
        "outputId": "ec513255-1da6-4816-ac27-f578f87c6c25"
      },
      "execution_count": 126,
      "outputs": [
        {
          "output_type": "stream",
          "name": "stderr",
          "text": [
            "/usr/local/lib/python3.7/dist-packages/seaborn/distributions.py:2619: FutureWarning: `distplot` is a deprecated function and will be removed in a future version. Please adapt your code to use either `displot` (a figure-level function with similar flexibility) or `histplot` (an axes-level function for histograms).\n",
            "  warnings.warn(msg, FutureWarning)\n"
          ]
        },
        {
          "output_type": "execute_result",
          "data": {
            "text/plain": [
              "<matplotlib.axes._subplots.AxesSubplot at 0x7f70e1460790>"
            ]
          },
          "metadata": {},
          "execution_count": 126
        },
        {
          "output_type": "display_data",
          "data": {
            "text/plain": [
              "<Figure size 432x288 with 1 Axes>"
            ],
            "image/png": "[encoded data removed]"
          },
          "metadata": {}
        }
      ]
    },
    {
      "cell_type": "code",
      "source": [
        "# get importance\n",
        "importance = lm.coef_\n",
        "# summarize feature importance\n",
        "for i,v in enumerate(importance):\n",
        "  print('Feature: %0d, Score: %.5f' % (i,v))\n",
        "\n",
        "# plot feature importance\n",
        "plt.bar([x for x in range(len(importance))], importance)\n",
        "plt.show()"
      ],
      "metadata": {
        "colab": {
          "base_uri": "https://localhost:8080/",
          "height": 443
        },
        "id": "It_PtoBLmFFg",
        "outputId": "2e2c47b7-2d24-4865-dd96-ba3e2004ea36"
      },
      "execution_count": 127,
      "outputs": [
        {
          "output_type": "stream",
          "name": "stdout",
          "text": [
            "Feature: 0, Score: 0.14464\n",
            "Feature: 1, Score: -0.06431\n",
            "Feature: 2, Score: 0.00116\n",
            "Feature: 3, Score: 0.00001\n",
            "Feature: 4, Score: 0.00010\n",
            "Feature: 5, Score: 0.00238\n",
            "Feature: 6, Score: -0.09105\n",
            "Feature: 7, Score: 0.10233\n",
            "Feature: 8, Score: 0.09050\n",
            "Feature: 9, Score: 0.00068\n"
          ]
        },
        {
          "output_type": "display_data",
          "data": {
            "text/plain": [
              "<Figure size 432x288 with 1 Axes>"
            ],
            "image/png": "[encoded data removed]"
          },
          "metadata": {}
        }
      ]
    },
    {
      "cell_type": "code",
      "source": [
        "# Adding a constant to get an intercept\n",
        "X_train_sm1 = sm.add_constant(x_train)\n",
        "\n",
        "# Fitting the resgression line using 'OLS'\n",
        "results = sm.OLS(y_train, X_train_sm1).fit()\n",
        "\n",
        "# Printing the parameters\n",
        "print(results.params)\n",
        "\n",
        "print(\"======================= Above parameters can define the Final Equation for MH Staff =========================\")\n",
        "print(\"=============================================================================================================\")\n",
        "\n",
        "# Performing a summary to list out all the different parameters of the regression line fitted\n",
        "print(results.summary())"
      ],
      "metadata": {
        "colab": {
          "base_uri": "https://localhost:8080/"
        },
        "id": "8HjZeIzwoigT",
        "outputId": "7007dd6e-b5b0-4814-d097-64f4bfb67f24"
      },
      "execution_count": 140,
      "outputs": [
        {
          "output_type": "stream",
          "name": "stdout",
          "text": [
            "const                   11.427768\n",
            "LENGTH OF STAY - ICU     0.144639\n",
            "TOTAL LENGTH OF STAY    -0.064312\n",
            "AGE                      0.001157\n",
            "COST OF IMPLANT          0.000007\n",
            "BMI                      0.000103\n",
            "HB                       0.002376\n",
            "UNMARRIED               -0.091046\n",
            "IMPLANT                  0.102330\n",
            "LENGTH OF STAY- WARD     0.090504\n",
            "BP-LOW                   0.000676\n",
            "dtype: float64\n",
            "======================= Above parameters can define the Final Equation for MH Staff =========================\n",
            "=============================================================================================================\n",
            "                            OLS Regression Results                            \n",
            "==============================================================================\n",
            "Dep. Variable:               Tot_Cost   R-squared:                       0.786\n",
            "Model:                            OLS   Adj. R-squared:                  0.771\n",
            "Method:                 Least Squares   F-statistic:                     51.89\n",
            "Date:                Tue, 15 Mar 2022   Prob (F-statistic):           2.57e-42\n",
            "Time:                        17:39:30   Log-Likelihood:                 20.144\n",
            "No. Observations:                 152   AIC:                            -18.29\n",
            "Df Residuals:                     141   BIC:                             14.98\n",
            "Df Model:                          10                                         \n",
            "Covariance Type:            nonrobust                                         \n",
            "========================================================================================\n",
            "                           coef    std err          t      P>|t|      [0.025      0.975]\n",
            "----------------------------------------------------------------------------------------\n",
            "const                   11.4278      0.170     67.104      0.000      11.091      11.764\n",
            "LENGTH OF STAY - ICU     0.1446      0.094      1.546      0.124      -0.040       0.330\n",
            "TOTAL LENGTH OF STAY    -0.0643      0.094     -0.686      0.494      -0.250       0.121\n",
            "AGE                      0.0012      0.002      0.650      0.517      -0.002       0.005\n",
            "COST OF IMPLANT        7.26e-06   2.13e-06      3.405      0.001    3.04e-06    1.15e-05\n",
            "BMI                      0.0001      0.002      0.044      0.965      -0.004       0.005\n",
            "HB                       0.0024      0.006      0.368      0.713      -0.010       0.015\n",
            "UNMARRIED               -0.0910      0.090     -1.010      0.314      -0.269       0.087\n",
            "IMPLANT                  0.1023      0.096      1.066      0.288      -0.087       0.292\n",
            "LENGTH OF STAY- WARD     0.0905      0.093      0.970      0.334      -0.094       0.275\n",
            "BP-LOW                   0.0007      0.001      0.461      0.645      -0.002       0.004\n",
            "==============================================================================\n",
            "Omnibus:                       47.564   Durbin-Watson:                   1.824\n",
            "Prob(Omnibus):                  0.000   Jarque-Bera (JB):              100.961\n",
            "Skew:                          -1.377   Prob(JB):                     1.19e-22\n",
            "Kurtosis:                       5.890   Cond. No.                     2.06e+05\n",
            "==============================================================================\n",
            "\n",
            "Warnings:\n",
            "[1] Standard Errors assume that the covariance matrix of the errors is correctly specified.\n",
            "[2] The condition number is large, 2.06e+05. This might indicate that there are\n",
            "strong multicollinearity or other numerical problems.\n"
          ]
        },
        {
          "output_type": "stream",
          "name": "stderr",
          "text": [
            "/usr/local/lib/python3.7/dist-packages/statsmodels/tsa/tsatools.py:117: FutureWarning: In a future version of pandas all arguments of concat except for the argument 'objs' will be keyword-only\n",
            "  x = pd.concat(x[::order], 1)\n"
          ]
        }
      ]
    },
    {
      "cell_type": "code",
      "source": [
        "## check normality of the residuals\n",
        "\n",
        "residual = y_test-predictions\n",
        "\n",
        "stats.probplot(residual, dist=\"norm\",plot=plt)\n",
        "plt.title(\"Normal Q-Q plot\")\n",
        "plt.show()"
      ],
      "metadata": {
        "colab": {
          "base_uri": "https://localhost:8080/",
          "height": 291
        },
        "id": "_85ECTWqmV2F",
        "outputId": "75922cdc-c8a1-40b7-b0f1-44b21dc9556c"
      },
      "execution_count": 128,
      "outputs": [
        {
          "output_type": "display_data",
          "data": {
            "text/plain": [
              "<Figure size 432x288 with 1 Axes>"
            ],
            "image/png": "[encoded data removed]"
          },
          "metadata": {}
        }
      ]
    },
    {
      "cell_type": "code",
      "source": [
        "# 1. Checking normality of residuals\n",
        "hist, bins = np.histogram(residual, bins=10)\n",
        "width = 0.7 * (bins[1] - bins[0])\n",
        "center = (bins[:-1] + bins[1:]) / 2\n",
        "plt.bar(center, hist, align='center', width=width)\n",
        "plt.ylabel('frequency')\n",
        "plt.xlabel('residual')\n",
        "plt.show()"
      ],
      "metadata": {
        "colab": {
          "base_uri": "https://localhost:8080/",
          "height": 276
        },
        "id": "JdbUgmSAmo-k",
        "outputId": "85d7161e-89a2-43d7-bb25-9ee3dfb5bf0a"
      },
      "execution_count": 129,
      "outputs": [
        {
          "output_type": "display_data",
          "data": {
            "text/plain": [
              "<Figure size 432x288 with 1 Axes>"
            ],
            "image/png": "[encoded data removed]"
          },
          "metadata": {}
        }
      ]
    },
    {
      "cell_type": "code",
      "source": [
        "x_train.columns"
      ],
      "metadata": {
        "colab": {
          "base_uri": "https://localhost:8080/"
        },
        "id": "BgyjJTwNnp6V",
        "outputId": "921a1833-211b-4922-ed16-3696794fa21d"
      },
      "execution_count": 131,
      "outputs": [
        {
          "output_type": "execute_result",
          "data": {
            "text/plain": [
              "Index(['LENGTH OF STAY - ICU', 'TOTAL LENGTH OF STAY', 'AGE',\n",
              "       'COST OF IMPLANT', 'BMI', 'HB', 'UNMARRIED', 'IMPLANT',\n",
              "       'LENGTH OF STAY- WARD', 'BP-LOW'],\n",
              "      dtype='object')"
            ]
          },
          "metadata": {},
          "execution_count": 131
        }
      ]
    },
    {
      "cell_type": "code",
      "source": [
        "importance"
      ],
      "metadata": {
        "colab": {
          "base_uri": "https://localhost:8080/"
        },
        "id": "2TaSoiABncSC",
        "outputId": "ab928416-bc28-4ad3-a837-147bd93eed77"
      },
      "execution_count": 130,
      "outputs": [
        {
          "output_type": "execute_result",
          "data": {
            "text/plain": [
              "array([ 1.44639077e-01, -6.43123003e-02,  1.15652180e-03,  7.25979796e-06,\n",
              "        1.02525871e-04,  2.37565033e-03, -9.10460940e-02,  1.02329672e-01,\n",
              "        9.05037078e-02,  6.76251119e-04])"
            ]
          },
          "metadata": {},
          "execution_count": 130
        }
      ]
    },
    {
      "cell_type": "markdown",
      "source": [
        "# Linear Equation from top 5 features"
      ],
      "metadata": {
        "id": "GLXTyz_gqv64"
      }
    },
    {
      "cell_type": "code",
      "source": [
        "top_5 = ['LENGTH OF STAY - ICU','TOTAL LENGTH OF STAY','AGE','COST OF IMPLANT','BMI','Tot_Cost']"
      ],
      "metadata": {
        "id": "4fqHIWo6qveP"
      },
      "execution_count": 144,
      "outputs": []
    },
    {
      "cell_type": "code",
      "source": [
        "final5 = df[top_5]\n",
        "train5,test5=train_test_split(final5,test_size=0.2,random_state=2)\n",
        "\n",
        "x_train5=train5.drop('Tot_Cost',axis=1)\n",
        "y_train5=train5['Tot_Cost']\n",
        "x_test5=test5.drop('Tot_Cost',axis=1)\n",
        "y_test5=test5['Tot_Cost']"
      ],
      "metadata": {
        "id": "UaI8YK22rG9O"
      },
      "execution_count": 145,
      "outputs": []
    },
    {
      "cell_type": "code",
      "source": [
        "\n",
        "#Model\n",
        "model5 = lm.fit(x_train5, y_train5)\n",
        "#Prediction\n",
        "predictions5 = model5.predict(x_test5)\n",
        "\n",
        "# Adding a constant to get an intercept\n",
        "X_train_sm5 = sm.add_constant(x_train5)\n",
        "\n",
        "# Fitting the resgression line using 'OLS'\n",
        "results = sm.OLS(y_train5, X_train_sm5).fit()\n",
        "\n",
        "# Printing the parameters\n",
        "print(results.params)\n",
        "\n",
        "print(\"======================= Above parameters can define the Final Equation for MH Staff =========================\")\n",
        "print(\"=============================================================================================================\")\n",
        "\n",
        "# Performing a summary to list out all the different parameters of the regression line fitted\n",
        "print(results.summary())"
      ],
      "metadata": {
        "colab": {
          "base_uri": "https://localhost:8080/"
        },
        "id": "-10gfdEmrwRt",
        "outputId": "05a07533-a15c-4053-e614-fdcfc332b01e"
      },
      "execution_count": 148,
      "outputs": [
        {
          "output_type": "stream",
          "name": "stdout",
          "text": [
            "const                   11.396481\n",
            "LENGTH OF STAY - ICU     0.055034\n",
            "TOTAL LENGTH OF STAY     0.026257\n",
            "AGE                      0.002536\n",
            "COST OF IMPLANT          0.000009\n",
            "BMI                      0.000917\n",
            "dtype: float64\n",
            "======================= Above parameters can define the Final Equation for MH Staff =========================\n",
            "=============================================================================================================\n",
            "                            OLS Regression Results                            \n",
            "==============================================================================\n",
            "Dep. Variable:               Tot_Cost   R-squared:                       0.779\n",
            "Model:                            OLS   Adj. R-squared:                  0.771\n",
            "Method:                 Least Squares   F-statistic:                     102.9\n",
            "Date:                Tue, 15 Mar 2022   Prob (F-statistic):           4.57e-46\n",
            "Time:                        17:48:09   Log-Likelihood:                 17.591\n",
            "No. Observations:                 152   AIC:                            -23.18\n",
            "Df Residuals:                     146   BIC:                            -5.039\n",
            "Df Model:                           5                                         \n",
            "Covariance Type:            nonrobust                                         \n",
            "========================================================================================\n",
            "                           coef    std err          t      P>|t|      [0.025      0.975]\n",
            "----------------------------------------------------------------------------------------\n",
            "const                   11.3965      0.067    170.731      0.000      11.265      11.528\n",
            "LENGTH OF STAY - ICU     0.0550      0.008      6.666      0.000       0.039       0.071\n",
            "TOTAL LENGTH OF STAY     0.0263      0.005      5.120      0.000       0.016       0.036\n",
            "AGE                      0.0025      0.001      2.284      0.024       0.000       0.005\n",
            "COST OF IMPLANT       9.332e-06      1e-06      9.335      0.000    7.36e-06    1.13e-05\n",
            "BMI                      0.0009      0.002      0.424      0.672      -0.003       0.005\n",
            "==============================================================================\n",
            "Omnibus:                       46.096   Durbin-Watson:                   1.794\n",
            "Prob(Omnibus):                  0.000   Jarque-Bera (JB):               97.831\n",
            "Skew:                          -1.332   Prob(JB):                     5.70e-22\n",
            "Kurtosis:                       5.890   Cond. No.                     7.49e+04\n",
            "==============================================================================\n",
            "\n",
            "Warnings:\n",
            "[1] Standard Errors assume that the covariance matrix of the errors is correctly specified.\n",
            "[2] The condition number is large, 7.49e+04. This might indicate that there are\n",
            "strong multicollinearity or other numerical problems.\n"
          ]
        },
        {
          "output_type": "stream",
          "name": "stderr",
          "text": [
            "/usr/local/lib/python3.7/dist-packages/statsmodels/tsa/tsatools.py:117: FutureWarning: In a future version of pandas all arguments of concat except for the argument 'objs' will be keyword-only\n",
            "  x = pd.concat(x[::order], 1)\n"
          ]
        }
      ]
    },
    {
      "cell_type": "code",
      "source": [
        "## check normality of the residuals\n",
        "\n",
        "residual5 = y_test5 - predictions5\n",
        "\n",
        "stats.probplot(residual5, dist=\"norm\",plot=plt)\n",
        "plt.title(\"Normal Q-Q plot\")\n",
        "plt.show()"
      ],
      "metadata": {
        "colab": {
          "base_uri": "https://localhost:8080/",
          "height": 291
        },
        "id": "3seoYPmgr6yI",
        "outputId": "10d60da5-a5c6-46e5-8f4e-77df8c73ad48"
      },
      "execution_count": 149,
      "outputs": [
        {
          "output_type": "display_data",
          "data": {
            "text/plain": [
              "<Figure size 432x288 with 1 Axes>"
            ],
            "image/png": "[encoded data removed]"
          },
          "metadata": {}
        }
      ]
    }
  ]
}